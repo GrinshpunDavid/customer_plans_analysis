{
 "cells": [
  {
   "cell_type": "markdown",
   "metadata": {},
   "source": [
    "<div style=\"border:solid grey 2px; padding: 20px\">\n",
    "\n",
    "# Megaline: plan comparison"
   ]
  },
  {
   "cell_type": "markdown",
   "metadata": {},
   "source": [
    "\n",
    "# Project description\n",
    "\n",
    "The goal of this project is to support decision making for the telecom operator Megaline.\n",
    "The company offers its clients two prepaid plans, Surf and Ultimate. \n",
    "The commercial department wants to know which of the plans brings in more revenue in order to adjust the advertising budget.\n",
    "\n",
    "Outline of analysis:\n",
    "* Assessed the data and made decisions about outliers and skewed values.\n",
    "* Performed clients profitability calculations and comparisons between groups of clients using Pandas and Numpy.\n",
    "* Made recommendations backed by statistical inferences for the commercial department."
   ]
  },
  {
   "cell_type": "markdown",
   "metadata": {},
   "source": [
    "## Open the data file and study the general information:"
   ]
  },
  {
   "cell_type": "code",
   "execution_count": 35,
   "metadata": {},
   "outputs": [],
   "source": [
    "import pandas as pd\n",
    "import numpy as np\n",
    "import matplotlib.pyplot as plt \n",
    "from scipy import stats as st\n",
    "from math import factorial\n",
    "from scipy.stats import norm\n",
    "from functools import reduce\n",
    "import warnings\n",
    "import random\n",
    "\n",
    "calls = pd.read_csv(\"/datasets/megaline_calls.csv\")\n",
    "internet = pd.read_csv(\"/datasets/megaline_internet.csv\")\n",
    "messages = pd.read_csv(\"/datasets/megaline_messages.csv\")\n",
    "plans = pd.read_csv(\"/datasets/megaline_plans.csv\")\n",
    "users = pd.read_csv(\"/datasets/megaline_users.csv\")\n",
    "\n",
    "warnings.simplefilter(action='ignore')"
   ]
  },
  {
   "cell_type": "markdown",
   "metadata": {},
   "source": [
    "#### examine the data:"
   ]
  },
  {
   "cell_type": "code",
   "execution_count": 36,
   "metadata": {},
   "outputs": [
    {
     "name": "stdout",
     "output_type": "stream",
     "text": [
      "users\n",
      "<class 'pandas.core.frame.DataFrame'>\n",
      "RangeIndex: 500 entries, 0 to 499\n",
      "Data columns (total 8 columns):\n",
      " #   Column      Non-Null Count  Dtype \n",
      "---  ------      --------------  ----- \n",
      " 0   user_id     500 non-null    int64 \n",
      " 1   first_name  500 non-null    object\n",
      " 2   last_name   500 non-null    object\n",
      " 3   age         500 non-null    int64 \n",
      " 4   city        500 non-null    object\n",
      " 5   reg_date    500 non-null    object\n",
      " 6   plan        500 non-null    object\n",
      " 7   churn_date  34 non-null     object\n",
      "dtypes: int64(2), object(6)\n",
      "memory usage: 31.4+ KB\n",
      "None\n",
      "---------------------------------------\n",
      "plans\n",
      "<class 'pandas.core.frame.DataFrame'>\n",
      "RangeIndex: 2 entries, 0 to 1\n",
      "Data columns (total 8 columns):\n",
      " #   Column                 Non-Null Count  Dtype  \n",
      "---  ------                 --------------  -----  \n",
      " 0   messages_included      2 non-null      int64  \n",
      " 1   mb_per_month_included  2 non-null      int64  \n",
      " 2   minutes_included       2 non-null      int64  \n",
      " 3   usd_monthly_pay        2 non-null      int64  \n",
      " 4   usd_per_gb             2 non-null      int64  \n",
      " 5   usd_per_message        2 non-null      float64\n",
      " 6   usd_per_minute         2 non-null      float64\n",
      " 7   plan_name              2 non-null      object \n",
      "dtypes: float64(2), int64(5), object(1)\n",
      "memory usage: 256.0+ bytes\n",
      "None\n",
      "---------------------------------------\n",
      "internet\n",
      "<class 'pandas.core.frame.DataFrame'>\n",
      "RangeIndex: 104825 entries, 0 to 104824\n",
      "Data columns (total 4 columns):\n",
      " #   Column        Non-Null Count   Dtype  \n",
      "---  ------        --------------   -----  \n",
      " 0   id            104825 non-null  object \n",
      " 1   user_id       104825 non-null  int64  \n",
      " 2   session_date  104825 non-null  object \n",
      " 3   mb_used       104825 non-null  float64\n",
      "dtypes: float64(1), int64(1), object(2)\n",
      "memory usage: 3.2+ MB\n",
      "None\n",
      "---------------------------------------\n",
      "calls\n",
      "<class 'pandas.core.frame.DataFrame'>\n",
      "RangeIndex: 137735 entries, 0 to 137734\n",
      "Data columns (total 4 columns):\n",
      " #   Column     Non-Null Count   Dtype  \n",
      "---  ------     --------------   -----  \n",
      " 0   id         137735 non-null  object \n",
      " 1   user_id    137735 non-null  int64  \n",
      " 2   call_date  137735 non-null  object \n",
      " 3   duration   137735 non-null  float64\n",
      "dtypes: float64(1), int64(1), object(2)\n",
      "memory usage: 4.2+ MB\n",
      "None\n",
      "---------------------------------------\n",
      "messages\n",
      "<class 'pandas.core.frame.DataFrame'>\n",
      "RangeIndex: 76051 entries, 0 to 76050\n",
      "Data columns (total 3 columns):\n",
      " #   Column        Non-Null Count  Dtype \n",
      "---  ------        --------------  ----- \n",
      " 0   id            76051 non-null  object\n",
      " 1   user_id       76051 non-null  int64 \n",
      " 2   message_date  76051 non-null  object\n",
      "dtypes: int64(1), object(2)\n",
      "memory usage: 1.7+ MB\n",
      "None\n"
     ]
    }
   ],
   "source": [
    "print(\"users\")\n",
    "print(users.info())\n",
    "print(\"---------------------------------------\")\n",
    "print(\"plans\")\n",
    "print(plans.info())\n",
    "print(\"---------------------------------------\")\n",
    "print(\"internet\")\n",
    "print(internet.info())\n",
    "print(\"---------------------------------------\")\n",
    "print(\"calls\")\n",
    "print(calls.info())\n",
    "print(\"---------------------------------------\")\n",
    "print(\"messages\")\n",
    "print(messages.info())"
   ]
  },
  {
   "cell_type": "code",
   "execution_count": 37,
   "metadata": {},
   "outputs": [
    {
     "name": "stdout",
     "output_type": "stream",
     "text": [
      "users\n",
      "   user_id first_name  last_name  age                                   city  \\\n",
      "0     1000   Anamaria      Bauer   45  Atlanta-Sandy Springs-Roswell, GA MSA   \n",
      "1     1001     Mickey  Wilkerson   28        Seattle-Tacoma-Bellevue, WA MSA   \n",
      "\n",
      "     reg_date      plan churn_date  \n",
      "0  2018-12-24  ultimate        NaN  \n",
      "1  2018-08-13      surf        NaN  \n",
      "---------------------------------------\n",
      "plans\n",
      "   messages_included  mb_per_month_included  minutes_included  \\\n",
      "0                 50                  15360               500   \n",
      "1               1000                  30720              3000   \n",
      "\n",
      "   usd_monthly_pay  usd_per_gb  usd_per_message  usd_per_minute plan_name  \n",
      "0               20          10             0.03            0.03      surf  \n",
      "1               70           7             0.01            0.01  ultimate  \n",
      "---------------------------------------\n",
      "internet\n",
      "         id  user_id session_date  mb_used\n",
      "0   1000_13     1000   2018-12-29    89.86\n",
      "1  1000_204     1000   2018-12-31     0.00\n",
      "---------------------------------------\n",
      "calls\n",
      "         id  user_id   call_date  duration\n",
      "0   1000_93     1000  2018-12-27      8.52\n",
      "1  1000_145     1000  2018-12-27     13.66\n",
      "---------------------------------------\n",
      "messages\n",
      "         id  user_id message_date\n",
      "0  1000_125     1000   2018-12-27\n",
      "1  1000_160     1000   2018-12-31\n"
     ]
    }
   ],
   "source": [
    "print(\"users\")\n",
    "print(users.head(2))\n",
    "print(\"---------------------------------------\")\n",
    "print(\"plans\")\n",
    "print(plans.head(2))\n",
    "print(\"---------------------------------------\")\n",
    "print(\"internet\")\n",
    "print(internet.head(2))\n",
    "print(\"---------------------------------------\")\n",
    "print(\"calls\")\n",
    "print(calls.head(2))\n",
    "print(\"---------------------------------------\")\n",
    "print(\"messages\")\n",
    "print(messages.head(2))"
   ]
  },
  {
   "cell_type": "markdown",
   "metadata": {},
   "source": [
    "* data is without duplicates and without nulls"
   ]
  },
  {
   "cell_type": "markdown",
   "metadata": {},
   "source": [
    "## Prepare the data\n",
    "\n",
    "* Convert the data to the necessary types.\n",
    "\n",
    "\n",
    "* Find and eliminate errors in the data (Explain what errors you found and how you removed them). \n",
    "\n",
    "###### Note: many calls have a duration of 0.0 minutes. These might be missed calls. \n",
    "   \n",
    "###### For each user, find:\n",
    "* The **number of calls made** and minutes used per month.\n",
    "* The number of text messages sent per month.\n",
    "* The volume of data per month.\n",
    "* The monthly revenue from each user (subtract the free package limit from the total number of calls, text messages, and data; multiply the result by the calling plan value; add the monthly charge depending on the calling plan)."
   ]
  },
  {
   "cell_type": "markdown",
   "metadata": {},
   "source": [
    "#### Change dates to datetime: "
   ]
  },
  {
   "cell_type": "code",
   "execution_count": 38,
   "metadata": {},
   "outputs": [],
   "source": [
    "#change dates to datetime: \n",
    "users.reg_date = pd.to_datetime(users.reg_date, format='%Y-%m-%d') \n",
    "internet.session_date = pd.to_datetime(internet.session_date, format='%Y-%m-%d') \n",
    "calls.call_date = pd.to_datetime(calls.call_date, format='%Y-%m-%d') \n",
    "messages.message_date = pd.to_datetime(messages.message_date, format='%Y-%m-%d') "
   ]
  },
  {
   "cell_type": "markdown",
   "metadata": {},
   "source": [
    "#### group messages by 'user_id' & 'date':"
   ]
  },
  {
   "cell_type": "code",
   "execution_count": 39,
   "metadata": {},
   "outputs": [],
   "source": [
    "#group messages by 'user_id' & 'date':\n",
    "messages_count = messages.groupby(['user_id', 'message_date']).agg({'id': 'count'}).reset_index()\n",
    "messages_count = messages_count.rename(columns = {'id':'number_of_messages','message_date':'date'})"
   ]
  },
  {
   "cell_type": "markdown",
   "metadata": {},
   "source": [
    "#### study internet usage:"
   ]
  },
  {
   "cell_type": "code",
   "execution_count": 40,
   "metadata": {},
   "outputs": [
    {
     "name": "stdout",
     "output_type": "stream",
     "text": [
      "13.11% of internet usage equal to 0.\n"
     ]
    },
    {
     "data": {
      "image/png": "[encoded data removed]",
      "text/plain": [
       "<Figure size 432x288 with 1 Axes>"
      ]
     },
     "metadata": {
      "needs_background": "light"
     },
     "output_type": "display_data"
    }
   ],
   "source": [
    "internet.hist('mb_used', bins=50);\n",
    "empty_surf = round(len(internet.query('mb_used == 0').id)/len(internet.id)*100, 2)\n",
    "print(\"{:}% of internet usage equal to 0.\".format(empty_surf))"
   ]
  },
  {
   "cell_type": "markdown",
   "metadata": {},
   "source": [
    "* There are 13.1% of values equal to zero. \n",
    "We are interested in summed up monthly internet usage, therefore it will not affect our analysis."
   ]
  },
  {
   "cell_type": "markdown",
   "metadata": {},
   "source": [
    "#### group internet usage by 'user_id' & 'date':"
   ]
  },
  {
   "cell_type": "code",
   "execution_count": 41,
   "metadata": {},
   "outputs": [],
   "source": [
    "#group internet usage by 'user_id' & 'date':\n",
    "internet_usage = internet.groupby(['user_id', 'session_date']).sum().reset_index()\n",
    "internet_usage = internet_usage.rename(columns = {'session_date':'date'})"
   ]
  },
  {
   "cell_type": "markdown",
   "metadata": {},
   "source": [
    "#### handle missed calles:"
   ]
  },
  {
   "cell_type": "code",
   "execution_count": 42,
   "metadata": {},
   "outputs": [
    {
     "name": "stdout",
     "output_type": "stream",
     "text": [
      "There are 19.48% missed calles.\n",
      "\n",
      "Mean call duration with missed calles:      6.75\n",
      "Mean call duration without missed calles:   8.38\n",
      "difference of:                             24.15 %\n",
      "\n",
      "std of call duration with missed calles:    5.84\n",
      "std of call duration without missed calles: 5.35\n",
      "difference of:                             -8.39 %\n"
     ]
    },
    {
     "data": {
      "image/png": "[encoded data removed]",
      "text/plain": [
       "<Figure size 432x288 with 1 Axes>"
      ]
     },
     "metadata": {
      "needs_background": "light"
     },
     "output_type": "display_data"
    }
   ],
   "source": [
    "#handle missed calles:\n",
    "calls.hist('duration', bins=50);\n",
    "missed_calls = round(len(calls.query('duration == 0').id)/len(calls.id)*100, 2)\n",
    "\n",
    "all_mean = calls.duration.mean().round(2)\n",
    "all_std = calls.duration.std().round(2)\n",
    "clear_mean = calls.query('duration > 0').duration.mean().round(2)\n",
    "clear_std = calls.query('duration > 0').duration.std().round(2)\n",
    "\n",
    "print(\"There are {:}% missed calles.\".format(missed_calls))\n",
    "print()\n",
    "print(\"Mean call duration with missed calles:      {:}\".format(all_mean))\n",
    "print(\"Mean call duration without missed calles:   {:}\".format(clear_mean))\n",
    "print(\"difference of:                             {:} %\".format(round((clear_mean/all_mean-1)*100,2)))\n",
    "print()\n",
    "print(\"std of call duration with missed calles:    {:}\".format(all_std))\n",
    "print(\"std of call duration without missed calles: {:}\".format(clear_std))\n",
    "print(\"difference of:                             {:} %\".format(round((clear_std/all_std-1)*100,2)))\n",
    "\n",
    "calls = calls.query('duration > 0')"
   ]
  },
  {
   "cell_type": "markdown",
   "metadata": {},
   "source": [
    "* by droping the missed calles we improved the acurracy of our data."
   ]
  },
  {
   "cell_type": "markdown",
   "metadata": {},
   "source": [
    "#### group call duration by 'user_id' & 'date':"
   ]
  },
  {
   "cell_type": "code",
   "execution_count": 43,
   "metadata": {},
   "outputs": [],
   "source": [
    "#group call duration by 'user_id' & 'date':\n",
    "calls['call_duration_rounded'] = np.ceil(calls.duration)\n",
    "calls_duration = calls.groupby(['user_id', 'call_date']).agg({'id': 'count','duration': 'sum' ,'call_duration_rounded': 'sum'}).reset_index()\n",
    "calls_duration = calls_duration.rename(columns = {'id':'number_of_calls','duration':'calls_duration','call_date':'date'})"
   ]
  },
  {
   "cell_type": "code",
   "execution_count": 44,
   "metadata": {},
   "outputs": [
    {
     "name": "stdout",
     "output_type": "stream",
     "text": [
      "   user_id       date  number_of_messages\n",
      "0     1000 2018-12-25                   1\n",
      "1     1000 2018-12-26                   1\n",
      "2     1000 2018-12-27                   3\n",
      "---------------------------------------\n",
      "   user_id       date  mb_used\n",
      "0     1000 2018-12-26   270.99\n",
      "1     1000 2018-12-27   880.22\n",
      "2     1000 2018-12-28   660.40\n",
      "---------------------------------------\n",
      "   user_id       date  number_of_calls  calls_duration  call_duration_rounded\n",
      "0     1000 2018-12-26                2           14.36                   15.0\n",
      "1     1000 2018-12-27                5           48.26                   50.0\n",
      "2     1000 2018-12-28                4           29.00                   31.0\n",
      "---------------------------------------\n"
     ]
    }
   ],
   "source": [
    "# check new dataframes:\n",
    "print(messages_count.head(3))\n",
    "print(\"---------------------------------------\")\n",
    "print(internet_usage.head(3))\n",
    "print(\"---------------------------------------\")\n",
    "print(calls_duration.head(3))\n",
    "print(\"---------------------------------------\")"
   ]
  },
  {
   "cell_type": "markdown",
   "metadata": {},
   "source": [
    "#### merge internet, calls and messages by user id and date and ad month:"
   ]
  },
  {
   "cell_type": "code",
   "execution_count": 45,
   "metadata": {},
   "outputs": [
    {
     "data": {
      "text/html": [
       "<div>\n",
       "<style scoped>\n",
       "    .dataframe tbody tr th:only-of-type {\n",
       "        vertical-align: middle;\n",
       "    }\n",
       "\n",
       "    .dataframe tbody tr th {\n",
       "        vertical-align: top;\n",
       "    }\n",
       "\n",
       "    .dataframe thead th {\n",
       "        text-align: right;\n",
       "    }\n",
       "</style>\n",
       "<table border=\"1\" class=\"dataframe\">\n",
       "  <thead>\n",
       "    <tr style=\"text-align: right;\">\n",
       "      <th></th>\n",
       "      <th>user_id</th>\n",
       "      <th>date</th>\n",
       "      <th>number_of_calls</th>\n",
       "      <th>calls_duration</th>\n",
       "      <th>call_duration_rounded</th>\n",
       "      <th>number_of_messages</th>\n",
       "      <th>mb_used</th>\n",
       "      <th>month</th>\n",
       "    </tr>\n",
       "  </thead>\n",
       "  <tbody>\n",
       "    <tr>\n",
       "      <th>0</th>\n",
       "      <td>1000</td>\n",
       "      <td>2018-12-26</td>\n",
       "      <td>2.0</td>\n",
       "      <td>14.36</td>\n",
       "      <td>15.0</td>\n",
       "      <td>1.0</td>\n",
       "      <td>270.99</td>\n",
       "      <td>12</td>\n",
       "    </tr>\n",
       "    <tr>\n",
       "      <th>1</th>\n",
       "      <td>1000</td>\n",
       "      <td>2018-12-27</td>\n",
       "      <td>5.0</td>\n",
       "      <td>48.26</td>\n",
       "      <td>50.0</td>\n",
       "      <td>3.0</td>\n",
       "      <td>880.22</td>\n",
       "      <td>12</td>\n",
       "    </tr>\n",
       "    <tr>\n",
       "      <th>2</th>\n",
       "      <td>1000</td>\n",
       "      <td>2018-12-28</td>\n",
       "      <td>4.0</td>\n",
       "      <td>29.00</td>\n",
       "      <td>31.0</td>\n",
       "      <td>1.0</td>\n",
       "      <td>660.40</td>\n",
       "      <td>12</td>\n",
       "    </tr>\n",
       "    <tr>\n",
       "      <th>3</th>\n",
       "      <td>1000</td>\n",
       "      <td>2018-12-29</td>\n",
       "      <td>1.0</td>\n",
       "      <td>1.70</td>\n",
       "      <td>2.0</td>\n",
       "      <td>1.0</td>\n",
       "      <td>89.86</td>\n",
       "      <td>12</td>\n",
       "    </tr>\n",
       "    <tr>\n",
       "      <th>4</th>\n",
       "      <td>1000</td>\n",
       "      <td>2018-12-30</td>\n",
       "      <td>1.0</td>\n",
       "      <td>4.22</td>\n",
       "      <td>5.0</td>\n",
       "      <td>1.0</td>\n",
       "      <td>NaN</td>\n",
       "      <td>12</td>\n",
       "    </tr>\n",
       "  </tbody>\n",
       "</table>\n",
       "</div>"
      ],
      "text/plain": [
       "   user_id       date  number_of_calls  calls_duration  call_duration_rounded  \\\n",
       "0     1000 2018-12-26              2.0           14.36                   15.0   \n",
       "1     1000 2018-12-27              5.0           48.26                   50.0   \n",
       "2     1000 2018-12-28              4.0           29.00                   31.0   \n",
       "3     1000 2018-12-29              1.0            1.70                    2.0   \n",
       "4     1000 2018-12-30              1.0            4.22                    5.0   \n",
       "\n",
       "   number_of_messages  mb_used  month  \n",
       "0                 1.0   270.99     12  \n",
       "1                 3.0   880.22     12  \n",
       "2                 1.0   660.40     12  \n",
       "3                 1.0    89.86     12  \n",
       "4                 1.0      NaN     12  "
      ]
     },
     "execution_count": 45,
     "metadata": {},
     "output_type": "execute_result"
    }
   ],
   "source": [
    "data_frames = [calls_duration, messages_count, internet_usage]\n",
    "daily_data = reduce(lambda  left,right: pd.merge(left,right,on=['user_id', 'date'], how='outer'), data_frames)\n",
    "daily_data['month'] = pd.DatetimeIndex(daily_data['date']).month\n",
    "daily_data.head()"
   ]
  },
  {
   "cell_type": "markdown",
   "metadata": {},
   "source": [
    "#### creat monthly_data dataframe and add 'plan' column:"
   ]
  },
  {
   "cell_type": "code",
   "execution_count": 46,
   "metadata": {},
   "outputs": [
    {
     "data": {
      "text/html": [
       "<div>\n",
       "<style scoped>\n",
       "    .dataframe tbody tr th:only-of-type {\n",
       "        vertical-align: middle;\n",
       "    }\n",
       "\n",
       "    .dataframe tbody tr th {\n",
       "        vertical-align: top;\n",
       "    }\n",
       "\n",
       "    .dataframe thead th {\n",
       "        text-align: right;\n",
       "    }\n",
       "</style>\n",
       "<table border=\"1\" class=\"dataframe\">\n",
       "  <thead>\n",
       "    <tr style=\"text-align: right;\">\n",
       "      <th></th>\n",
       "      <th>user_id</th>\n",
       "      <th>month</th>\n",
       "      <th>number_of_calls</th>\n",
       "      <th>calls_duration</th>\n",
       "      <th>call_duration_rounded</th>\n",
       "      <th>number_of_messages</th>\n",
       "      <th>mb_used</th>\n",
       "      <th>plan</th>\n",
       "    </tr>\n",
       "  </thead>\n",
       "  <tbody>\n",
       "    <tr>\n",
       "      <th>0</th>\n",
       "      <td>1000</td>\n",
       "      <td>12</td>\n",
       "      <td>16.0</td>\n",
       "      <td>116.83</td>\n",
       "      <td>124.0</td>\n",
       "      <td>11.0</td>\n",
       "      <td>1901.47</td>\n",
       "      <td>True</td>\n",
       "    </tr>\n",
       "    <tr>\n",
       "      <th>1</th>\n",
       "      <td>1001</td>\n",
       "      <td>8</td>\n",
       "      <td>22.0</td>\n",
       "      <td>171.14</td>\n",
       "      <td>182.0</td>\n",
       "      <td>30.0</td>\n",
       "      <td>6919.15</td>\n",
       "      <td>False</td>\n",
       "    </tr>\n",
       "    <tr>\n",
       "      <th>2</th>\n",
       "      <td>1001</td>\n",
       "      <td>9</td>\n",
       "      <td>38.0</td>\n",
       "      <td>297.69</td>\n",
       "      <td>315.0</td>\n",
       "      <td>44.0</td>\n",
       "      <td>13314.82</td>\n",
       "      <td>False</td>\n",
       "    </tr>\n",
       "    <tr>\n",
       "      <th>3</th>\n",
       "      <td>1001</td>\n",
       "      <td>10</td>\n",
       "      <td>47.0</td>\n",
       "      <td>374.11</td>\n",
       "      <td>393.0</td>\n",
       "      <td>53.0</td>\n",
       "      <td>22330.49</td>\n",
       "      <td>False</td>\n",
       "    </tr>\n",
       "    <tr>\n",
       "      <th>4</th>\n",
       "      <td>1001</td>\n",
       "      <td>11</td>\n",
       "      <td>49.0</td>\n",
       "      <td>404.59</td>\n",
       "      <td>426.0</td>\n",
       "      <td>36.0</td>\n",
       "      <td>18504.30</td>\n",
       "      <td>False</td>\n",
       "    </tr>\n",
       "  </tbody>\n",
       "</table>\n",
       "</div>"
      ],
      "text/plain": [
       "   user_id  month  number_of_calls  calls_duration  call_duration_rounded  \\\n",
       "0     1000     12             16.0          116.83                  124.0   \n",
       "1     1001      8             22.0          171.14                  182.0   \n",
       "2     1001      9             38.0          297.69                  315.0   \n",
       "3     1001     10             47.0          374.11                  393.0   \n",
       "4     1001     11             49.0          404.59                  426.0   \n",
       "\n",
       "   number_of_messages   mb_used   plan  \n",
       "0                11.0   1901.47   True  \n",
       "1                30.0   6919.15  False  \n",
       "2                44.0  13314.82  False  \n",
       "3                53.0  22330.49  False  \n",
       "4                36.0  18504.30  False  "
      ]
     },
     "execution_count": 46,
     "metadata": {},
     "output_type": "execute_result"
    }
   ],
   "source": [
    "# creat monthly_data dataframe and add 'plan' column:\n",
    "monthly_data = daily_data.groupby(['user_id', 'month']).sum().reset_index()\n",
    "\n",
    "monthly_data['plan'] = False\n",
    "for i in range(len(monthly_data)):\n",
    "    userid = monthly_data.user_id.iloc[i]\n",
    "    plan_i = str(users['plan'].loc[ users['user_id'] == userid ])\n",
    "    \n",
    "    if 'ultimate' in plan_i:\n",
    "        monthly_data['plan'].iloc[i] = True\n",
    "    else:\n",
    "        monthly_data['plan'].iloc[i] = False\n",
    "        \n",
    "monthly_data.head()        "
   ]
  },
  {
   "cell_type": "markdown",
   "metadata": {},
   "source": [
    "#### calculate monthly client payments:"
   ]
  },
  {
   "cell_type": "code",
   "execution_count": 47,
   "metadata": {},
   "outputs": [
    {
     "data": {
      "text/html": [
       "<div>\n",
       "<style scoped>\n",
       "    .dataframe tbody tr th:only-of-type {\n",
       "        vertical-align: middle;\n",
       "    }\n",
       "\n",
       "    .dataframe tbody tr th {\n",
       "        vertical-align: top;\n",
       "    }\n",
       "\n",
       "    .dataframe thead th {\n",
       "        text-align: right;\n",
       "    }\n",
       "</style>\n",
       "<table border=\"1\" class=\"dataframe\">\n",
       "  <thead>\n",
       "    <tr style=\"text-align: right;\">\n",
       "      <th></th>\n",
       "      <th>user_id</th>\n",
       "      <th>month</th>\n",
       "      <th>number_of_calls</th>\n",
       "      <th>calls_duration</th>\n",
       "      <th>call_duration_rounded</th>\n",
       "      <th>number_of_messages</th>\n",
       "      <th>mb_used</th>\n",
       "      <th>plan</th>\n",
       "      <th>monthly_payments</th>\n",
       "    </tr>\n",
       "  </thead>\n",
       "  <tbody>\n",
       "    <tr>\n",
       "      <th>0</th>\n",
       "      <td>1000</td>\n",
       "      <td>12</td>\n",
       "      <td>16.0</td>\n",
       "      <td>116.83</td>\n",
       "      <td>124.0</td>\n",
       "      <td>11.0</td>\n",
       "      <td>1901.47</td>\n",
       "      <td>True</td>\n",
       "      <td>70.00</td>\n",
       "    </tr>\n",
       "    <tr>\n",
       "      <th>1</th>\n",
       "      <td>1001</td>\n",
       "      <td>8</td>\n",
       "      <td>22.0</td>\n",
       "      <td>171.14</td>\n",
       "      <td>182.0</td>\n",
       "      <td>30.0</td>\n",
       "      <td>6919.15</td>\n",
       "      <td>False</td>\n",
       "      <td>20.00</td>\n",
       "    </tr>\n",
       "    <tr>\n",
       "      <th>2</th>\n",
       "      <td>1001</td>\n",
       "      <td>9</td>\n",
       "      <td>38.0</td>\n",
       "      <td>297.69</td>\n",
       "      <td>315.0</td>\n",
       "      <td>44.0</td>\n",
       "      <td>13314.82</td>\n",
       "      <td>False</td>\n",
       "      <td>20.00</td>\n",
       "    </tr>\n",
       "    <tr>\n",
       "      <th>3</th>\n",
       "      <td>1001</td>\n",
       "      <td>10</td>\n",
       "      <td>47.0</td>\n",
       "      <td>374.11</td>\n",
       "      <td>393.0</td>\n",
       "      <td>53.0</td>\n",
       "      <td>22330.49</td>\n",
       "      <td>False</td>\n",
       "      <td>90.09</td>\n",
       "    </tr>\n",
       "    <tr>\n",
       "      <th>4</th>\n",
       "      <td>1001</td>\n",
       "      <td>11</td>\n",
       "      <td>49.0</td>\n",
       "      <td>404.59</td>\n",
       "      <td>426.0</td>\n",
       "      <td>36.0</td>\n",
       "      <td>18504.30</td>\n",
       "      <td>False</td>\n",
       "      <td>60.00</td>\n",
       "    </tr>\n",
       "  </tbody>\n",
       "</table>\n",
       "</div>"
      ],
      "text/plain": [
       "   user_id  month  number_of_calls  calls_duration  call_duration_rounded  \\\n",
       "0     1000     12             16.0          116.83                  124.0   \n",
       "1     1001      8             22.0          171.14                  182.0   \n",
       "2     1001      9             38.0          297.69                  315.0   \n",
       "3     1001     10             47.0          374.11                  393.0   \n",
       "4     1001     11             49.0          404.59                  426.0   \n",
       "\n",
       "   number_of_messages   mb_used   plan  monthly_payments  \n",
       "0                11.0   1901.47   True             70.00  \n",
       "1                30.0   6919.15  False             20.00  \n",
       "2                44.0  13314.82  False             20.00  \n",
       "3                53.0  22330.49  False             90.09  \n",
       "4                36.0  18504.30  False             60.00  "
      ]
     },
     "execution_count": 47,
     "metadata": {},
     "output_type": "execute_result"
    },
    {
     "data": {
      "image/png": "[encoded data removed]",
      "text/plain": [
       "<Figure size 432x288 with 1 Axes>"
      ]
     },
     "metadata": {
      "needs_background": "light"
     },
     "output_type": "display_data"
    }
   ],
   "source": [
    "# calculate monthly client payments:\n",
    "def monthly_pay(row, plan):\n",
    "    payment = 0\n",
    "    \n",
    "    if row.plan:\n",
    "        payment = plan.usd_monthly_pay[1]\n",
    "        payment += np.where(row.call_duration_rounded > plan.minutes_included[1], (row.call_duration_rounded-plan.minutes_included[1])*plan.usd_per_minute[1], 0) \n",
    "        payment += np.where(row.number_of_messages > plan.messages_included[1], (row.number_of_messages -plan.messages_included[1])*plan.usd_per_message[1], 0) \n",
    "        payment += np.where(row.mb_used > plan.mb_per_month_included[1], np.ceil((row.mb_used - plan.mb_per_month_included[1])/1000)*plan.usd_per_gb[1], 0) \n",
    "            \n",
    "    else:\n",
    "        payment = plan.usd_monthly_pay[0]\n",
    "        payment += np.where(row.call_duration_rounded > plan.minutes_included[0], (row.call_duration_rounded-plan.minutes_included[0])*plan.usd_per_minute[0], 0) \n",
    "        payment += np.where(row.number_of_messages > plan.messages_included[0], (row.number_of_messages -plan.messages_included[0])*plan.usd_per_message[0], 0) \n",
    "        payment += np.where(row.mb_used > plan.mb_per_month_included[0], np.ceil((row.mb_used - plan.mb_per_month_included[0])/1000)*plan.usd_per_gb[0], 0) \n",
    "  \n",
    "    return payment\n",
    "\n",
    "monthly_data['monthly_payments'] = monthly_data.apply( lambda row: monthly_pay(row , plans), axis=1)\n",
    "monthly_data.query('monthly_payments <350').hist('monthly_payments', bins=50);\n",
    "monthly_data.head()"
   ]
  },
  {
   "cell_type": "markdown",
   "metadata": {},
   "source": [
    "* data is clear and ready to be worken on.\n",
    "\n",
    "* we will focus on two main dataframes: 'users' and 'monthly_data'."
   ]
  },
  {
   "cell_type": "markdown",
   "metadata": {},
   "source": [
    "## Analyze the data\n",
    " \n",
    "* Find the minutes, texts, and volume of data the users of each plan require per month. \n",
    "* Calculate the mean, dispersion, and standard deviation. \n",
    "* Plot histograms. \n",
    "* Describe the distributions.\n",
    "* Describe the customers' behavior."
   ]
  },
  {
   "cell_type": "markdown",
   "metadata": {},
   "source": [
    "#### creat ultimate/surf plans dataframs:"
   ]
  },
  {
   "cell_type": "code",
   "execution_count": 48,
   "metadata": {},
   "outputs": [],
   "source": [
    "#creat ultimate/surf plans dataframs.\n",
    "monthly_ultimate = monthly_data[monthly_data.plan].reset_index()\n",
    "monthly_surf = monthly_data[~monthly_data.plan].reset_index()"
   ]
  },
  {
   "cell_type": "markdown",
   "metadata": {},
   "source": [
    "#### calls duration:"
   ]
  },
  {
   "cell_type": "code",
   "execution_count": 49,
   "metadata": {
    "scrolled": true
   },
   "outputs": [
    {
     "name": "stdout",
     "output_type": "stream",
     "text": [
      "ultimate\n",
      "variance 51641\n",
      "count     720.000000\n",
      "mean      406.193083\n",
      "std       227.246499\n",
      "min         0.000000\n",
      "25%       246.290000\n",
      "50%       398.585000\n",
      "75%       532.227500\n",
      "max      1292.090000\n",
      "Name: calls_duration, dtype: float64\n",
      "-----------------------------------------------\n",
      "\n",
      "monthly_surf\n",
      "variance 49135\n",
      "count    1573.000000\n",
      "mean      404.762390\n",
      "std       221.664397\n",
      "min         0.000000\n",
      "25%       255.470000\n",
      "50%       401.760000\n",
      "75%       543.680000\n",
      "max      1431.220000\n",
      "Name: calls_duration, dtype: float64\n"
     ]
    }
   ],
   "source": [
    "# minutes - describe the distributions and customers' behavior:\n",
    "print(\"ultimate\")\n",
    "print(\"variance\",round(monthly_ultimate.calls_duration.std()**2))\n",
    "print(monthly_ultimate.calls_duration.describe())\n",
    "print(\"-----------------------------------------------\")\n",
    "print(\"\\nmonthly_surf\")\n",
    "print(\"variance\",round(monthly_surf.calls_duration.std()**2))\n",
    "print(monthly_surf.calls_duration.describe())"
   ]
  },
  {
   "cell_type": "code",
   "execution_count": 53,
   "metadata": {},
   "outputs": [
    {
     "data": {
      "image/png": "[encoded data removed]",
      "text/plain": [
       "<Figure size 1152x360 with 2 Axes>"
      ]
     },
     "metadata": {
      "needs_background": "light"
     },
     "output_type": "display_data"
    }
   ],
   "source": [
    "# plot calls duration\n",
    "plt_calls_duration = [monthly_ultimate.calls_duration, monthly_surf.calls_duration]\n",
    "fig, ax = plt.subplots(1,2,figsize=(16, 5))\n",
    "\n",
    "ax[0].hist(plt_calls_duration, histtype='stepfilled', alpha=0.5, density=True, bins=25, label=['ultimate','surf'])\n",
    "ax[0].vlines(x= plans.minutes_included[0], ymin=0, ymax=0.002, color = 'r', linewidth=2, label = 'surf plan limit')\n",
    "ax[0].legend(prop={'size': 10})\n",
    "ax[0].set_xlabel('calls duration (min)')\n",
    "ax[0].set_ylabel('Probability')\n",
    "ax[0].set_title('Calls Duration: Histogram')\n",
    "\n",
    "ax[1].boxplot(plt_calls_duration, notch=True,vert=False, labels = ['ultimate','surf'])\n",
    "ax[1].set_xlabel('calls duration (min)')\n",
    "ax[1].set_title('Calls Duration: Boxplot')\n",
    "\n",
    "plt.show()"
   ]
  },
  {
   "cell_type": "markdown",
   "metadata": {},
   "source": [
    "* we can see there is no prominent diffrence in monthly calls duration between surf and ultimate users.\n",
    "* the distrebution is looking normal."
   ]
  },
  {
   "cell_type": "markdown",
   "metadata": {},
   "source": [
    "#### number of text messages:"
   ]
  },
  {
   "cell_type": "code",
   "execution_count": 54,
   "metadata": {},
   "outputs": [
    {
     "name": "stdout",
     "output_type": "stream",
     "text": [
      "ultimate\n",
      "variance 1209\n",
      "count    720.000000\n",
      "mean      37.551389\n",
      "std       34.767179\n",
      "min        0.000000\n",
      "25%        7.000000\n",
      "50%       30.000000\n",
      "75%       61.000000\n",
      "max      166.000000\n",
      "Name: number_of_messages, dtype: float64\n",
      "-----------------------------------------------\n",
      "\n",
      "monthly_surf\n",
      "variance 1127\n",
      "count    1573.000000\n",
      "mean       31.159568\n",
      "std        33.566717\n",
      "min         0.000000\n",
      "25%         3.000000\n",
      "50%        24.000000\n",
      "75%        47.000000\n",
      "max       266.000000\n",
      "Name: number_of_messages, dtype: float64\n",
      "-----------------------------------------------\n",
      "\n",
      "precent of 0 messages per month - ultimate: 18.89%\n",
      "precent of 0 messages per month - surf:     22.31%\n"
     ]
    }
   ],
   "source": [
    "# text - describe the distributions and customers' behavior:\n",
    "print(\"ultimate\")\n",
    "print(\"variance\",round(monthly_ultimate.number_of_messages.std()**2))\n",
    "print(monthly_ultimate.number_of_messages.describe())\n",
    "print(\"-----------------------------------------------\")\n",
    "print(\"\\nmonthly_surf\")\n",
    "print(\"variance\",round(monthly_surf.number_of_messages.std()**2))\n",
    "print(monthly_surf.number_of_messages.describe())\n",
    "print(\"-----------------------------------------------\")\n",
    "\n",
    "messge_r_ultimate = round(100*len(monthly_ultimate.query('number_of_messages ==0').number_of_messages)/len(monthly_ultimate.number_of_messages),2)\n",
    "messge_r_surf = round(100*len(monthly_surf.query('number_of_messages ==0').number_of_messages)/len(monthly_surf.number_of_messages),2)\n",
    "\n",
    "print(\"\\nprecent of 0 messages per month - ultimate: {:}%\".format(messge_r_ultimate))\n",
    "print(\"precent of 0 messages per month - surf:     {:}%\".format(messge_r_surf))"
   ]
  },
  {
   "cell_type": "code",
   "execution_count": 57,
   "metadata": {},
   "outputs": [
    {
     "data": {
      "image/png": "[encoded data removed]",
      "text/plain": [
       "<Figure size 1152x360 with 2 Axes>"
      ]
     },
     "metadata": {
      "needs_background": "light"
     },
     "output_type": "display_data"
    }
   ],
   "source": [
    "# plot number of text messages:\n",
    "plt_messages = [monthly_ultimate.query('number_of_messages >0').number_of_messages, monthly_surf.query('number_of_messages >0').number_of_messages]\n",
    "fig, ax1 = plt.subplots(1,2,figsize=(16, 5))\n",
    "\n",
    "ax1[0].hist(plt_messages, histtype='stepfilled', alpha=0.5, density=True, bins=25, label=['ultimate','surf'])\n",
    "ax1[0].vlines(x= plans.messages_included[0], ymin=0, ymax=0.015, color = 'r', linewidth=2, label = 'surf plan limit')\n",
    "ax1[0].legend(prop={'size': 10})\n",
    "ax1[0].set_xlabel('number of messages')\n",
    "ax1[0].set_ylabel('Probability')\n",
    "ax1[0].set_title('Number of Messages: Histogram')\n",
    "\n",
    "ax1[1].boxplot(plt_messages, notch=True,vert=False, labels = ['ultimate','surf'])\n",
    "ax1[1].set_xlabel('number of messages')\n",
    "ax1[1].set_title('Number of Messages: Boxplot')\n",
    "\n",
    "plt.show()"
   ]
  },
  {
   "cell_type": "markdown",
   "metadata": {},
   "source": [
    "* overall ultimate plan users send more text messages.\n",
    "\n",
    "- 1-50 messeges per month is more common with clients on the surf plan.\n",
    "- my explanation is that the customers are aware to the 50 message limit and act accordingly.\n",
    "\n",
    "- 51-100 messeges per month has greater representation of clients with the ultimate plan.\n",
    "\n",
    "- Clients with the ultimate plan has 1000 messeges limit, the max masseges sent by ultimate is 166 and by surf is 266.\n",
    "- 1000 messeges limit is no different than no limit at all for our clients."
   ]
  },
  {
   "cell_type": "markdown",
   "metadata": {},
   "source": [
    "#### internet data usage:"
   ]
  },
  {
   "cell_type": "code",
   "execution_count": 58,
   "metadata": {},
   "outputs": [
    {
     "name": "stdout",
     "output_type": "stream",
     "text": [
      "ultimate\n",
      "variance 61652293\n",
      "count      720.000000\n",
      "mean     17214.699694\n",
      "std       7851.897435\n",
      "min          0.000000\n",
      "25%      12666.955000\n",
      "50%      16858.340000\n",
      "75%      21014.527500\n",
      "max      46595.330000\n",
      "Name: mb_used, dtype: float64\n",
      "-----------------------------------------------\n",
      "\n",
      "monthly_surf\n",
      "variance 64216396\n",
      "count     1573.000000\n",
      "mean     16558.283490\n",
      "std       8013.513327\n",
      "min          0.000000\n",
      "25%      11986.520000\n",
      "50%      16829.310000\n",
      "75%      20999.610000\n",
      "max      70931.590000\n",
      "Name: mb_used, dtype: float64\n"
     ]
    }
   ],
   "source": [
    "# data - describe the distributions and customers' behavior:\n",
    "print(\"ultimate\")\n",
    "print(\"variance\",round(monthly_ultimate.mb_used.std()**2))\n",
    "print(monthly_ultimate.mb_used.describe())\n",
    "print(\"-----------------------------------------------\")\n",
    "print(\"\\nmonthly_surf\")\n",
    "print(\"variance\",round(monthly_surf.mb_used.std()**2))\n",
    "print(monthly_surf.mb_used.describe())"
   ]
  },
  {
   "cell_type": "code",
   "execution_count": 60,
   "metadata": {},
   "outputs": [
    {
     "data": {
      "image/png": "[encoded data removed]",
      "text/plain": [
       "<Figure size 1152x360 with 2 Axes>"
      ]
     },
     "metadata": {
      "needs_background": "light"
     },
     "output_type": "display_data"
    }
   ],
   "source": [
    "# plot internet data usage:\n",
    "plt_data = [monthly_ultimate.mb_used, monthly_surf.mb_used]\n",
    "fig, ax2 = plt.subplots(1,2,figsize=(16, 5))\n",
    "\n",
    "ax2[0].hist(plt_data, histtype='stepfilled', alpha=0.5, density=True, bins=25, label=['ultimate','surf'])\n",
    "ax2[0].vlines(x= plans.mb_per_month_included[0], ymin=0, ymax=0.00007, color = 'r', linewidth=2, label = 'surf plan limit')\n",
    "ax2[0].vlines(x= plans.mb_per_month_included[1], ymin=0, ymax=0.00004, color = 'm', linewidth=2, label = 'ultimate plan limit')\n",
    "ax2[0].legend(prop={'size': 10})\n",
    "ax2[0].set_xlabel('data usage (Mb)')\n",
    "ax2[0].set_ylabel('Probability')\n",
    "ax2[0].set_title('Data Usage: Histogram')\n",
    "\n",
    "ax2[1].boxplot(plt_data, notch=True,vert=False, labels = ['ultimate','surf'])\n",
    "ax2[1].set_xlabel('data usage (Mb)')\n",
    "ax2[1].set_title('Data Usage: Boxplot')\n",
    "\n",
    "plt.show()"
   ]
  },
  {
   "cell_type": "markdown",
   "metadata": {},
   "source": [
    "* we can see there is no prominent diffrence in monthly data usage duration between surf and ultimate users.\n",
    "* the distrebution is looking normal."
   ]
  },
  {
   "cell_type": "markdown",
   "metadata": {},
   "source": [
    "## Test the hypotheses\n",
    "* The average revenue from users of Ultimate and Surf calling plans differs.\n",
    "* The average revenue from users in NY-NJ area is different from that of the users from other regions.\n",
    "* You decide what alpha value to use.\n",
    "\n",
    "###### Explain:\n",
    "* How you formulated the null and alternative hypotheses.\n",
    "* What criterion you used to test the hypotheses and why."
   ]
  },
  {
   "cell_type": "markdown",
   "metadata": {},
   "source": [
    "#### revenue by plans:"
   ]
  },
  {
   "cell_type": "code",
   "execution_count": 61,
   "metadata": {},
   "outputs": [
    {
     "name": "stdout",
     "output_type": "stream",
     "text": [
      "ultimate\n",
      "variance 138\n",
      "count    720.000000\n",
      "mean      72.381944\n",
      "std       11.731937\n",
      "min       70.000000\n",
      "25%       70.000000\n",
      "50%       70.000000\n",
      "75%       70.000000\n",
      "max      182.000000\n",
      "Name: monthly_payments, dtype: float64\n",
      "-----------------------------------------------\n",
      "\n",
      "monthly_surf\n",
      "variance 3199\n",
      "count    1573.000000\n",
      "mean       61.431138\n",
      "std        56.556853\n",
      "min        20.000000\n",
      "25%        20.000000\n",
      "50%        40.510000\n",
      "75%        81.950000\n",
      "max       600.370000\n",
      "Name: monthly_payments, dtype: float64\n",
      "\n",
      "surf/ultimate variance ratio: 23.24\n"
     ]
    }
   ],
   "source": [
    "# revenue - describe the distributions and customers' behavior:\n",
    "print(\"ultimate\")\n",
    "print(\"variance\",round(monthly_ultimate.monthly_payments.std()**2))\n",
    "print(monthly_ultimate.monthly_payments.describe())\n",
    "print(\"-----------------------------------------------\")\n",
    "print(\"\\nmonthly_surf\")\n",
    "print(\"variance\",round(monthly_surf.monthly_payments.std()**2))\n",
    "print(monthly_surf.monthly_payments.describe())\n",
    "\n",
    "var_ratio = round((monthly_surf.monthly_payments.std()/monthly_ultimate.monthly_payments.std())**2, 2 )\n",
    "print(\"\\nsurf/ultimate variance ratio:\", var_ratio)"
   ]
  },
  {
   "cell_type": "code",
   "execution_count": 64,
   "metadata": {},
   "outputs": [
    {
     "data": {
      "image/png": "[encoded data removed]",
      "text/plain": [
       "<Figure size 1152x360 with 2 Axes>"
      ]
     },
     "metadata": {
      "needs_background": "light"
     },
     "output_type": "display_data"
    }
   ],
   "source": [
    "# plot revenue:\n",
    "plt_revenue = [monthly_ultimate.monthly_payments, monthly_surf.monthly_payments]\n",
    "fig, ax3 = plt.subplots(1,2,figsize=(16, 5))\n",
    "\n",
    "ax3[0].hist(plt_revenue, histtype='stepfilled', alpha=0.5, density=True, bins=25, label=['ultimate','surf'])\n",
    "ax3[0].legend(prop={'size': 10})\n",
    "ax3[0].set_xlabel('monthly payment')\n",
    "ax3[0].set_ylabel('Probability')\n",
    "ax3[0].set_title('Revenue: Histogram')\n",
    "\n",
    "ax3[1].boxplot(plt_revenue, notch=True,vert=False, labels = ['ultimate','surf'])\n",
    "ax3[1].set_xlabel('monthly payment')\n",
    "ax3[1].set_title('Revenue: Boxplot')\n",
    "\n",
    "plt.show()"
   ]
  },
  {
   "cell_type": "markdown",
   "metadata": {},
   "source": [
    "* the average monthly payment of ultimate clients is: 72.38.\n",
    "* which is very close to the package's base price of 70.\n",
    "\n",
    "* the average monthly payment of surf clients is: 61.43.\n",
    "* which is much higher than the package base price of 20.\n",
    "\n",
    "* there is big difference in the monthly payment distrebution between ultimate and surf clients.\n",
    "* the scale of the difference can be seen in the std and the variance of the two groups."
   ]
  },
  {
   "cell_type": "markdown",
   "metadata": {},
   "source": [
    "#### revenue by plans formulated null hypothesis:"
   ]
  },
  {
   "cell_type": "markdown",
   "metadata": {},
   "source": [
    "* The formulated null hypothesis is: Average revenue from of Ultimate and average revenue from Surf calling plans are equal.\n",
    "\n",
    "* The alternative hypothesis is: Average revenue from of Ultimate and average revenue from Surf calling plans are not equal."
   ]
  },
  {
   "cell_type": "code",
   "execution_count": 65,
   "metadata": {},
   "outputs": [
    {
     "name": "stdout",
     "output_type": "stream",
     "text": [
      "alpha:    0.01\n",
      "p-value:  2.9100643067905846e-07\n",
      "We reject the null hypothesis\n"
     ]
    }
   ],
   "source": [
    "#null hypothesis - average revenue from users of Ultimate and Surf calling plans are equal. \n",
    "alpha = 0.01  \n",
    "results = st.ttest_ind(monthly_ultimate.monthly_payments, monthly_surf.monthly_payments)\n",
    "print('alpha:   ', alpha  )\n",
    "print('p-value: ', results.pvalue  )\n",
    "\n",
    "if (results.pvalue < alpha):\n",
    "    print('We reject the null hypothesis')\n",
    "else:\n",
    "    print(\"We can't reject the null hypothesis\") "
   ]
  },
  {
   "cell_type": "markdown",
   "metadata": {},
   "source": [
    "* We rejected the null hypothesis that average revenue from users of Ultimate and Surf calling plans is equal."
   ]
  },
  {
   "cell_type": "markdown",
   "metadata": {},
   "source": [
    "#### creat dataframe for users in NY-NJ area and for the users from other regions:"
   ]
  },
  {
   "cell_type": "code",
   "execution_count": 66,
   "metadata": {},
   "outputs": [],
   "source": [
    "#creat dataframe for users in NY-NJ area and for the users from other regions:\n",
    "users['area'] = \"\"\n",
    "users['state'] = \"\"\n",
    "for i in range(len(users)):\n",
    "    users['area'].iloc[i] , users['state'].iloc[i] = users.city.iloc[i].split(\",\")\n",
    "\n",
    "users_state = users[['user_id', 'state']]   \n",
    "monthly_data_2 = pd.merge(left = monthly_data , right = users_state, how='left',on='user_id')\n",
    "\n",
    "NJ_NY_monthly = monthly_data_2[monthly_data_2['state'].str.contains(\"NJ\"or\"NY\")]\n",
    "\n",
    "not_NJ_NY_monthly = monthly_data_2.drop(index = NJ_NY_monthly.index, axis=1).reset_index()\n",
    "NJ_NY_monthly = NJ_NY_monthly.reset_index()"
   ]
  },
  {
   "cell_type": "markdown",
   "metadata": {},
   "source": [
    "#### IS the average revenue from users in NY-NJ area is different from that of the users from other regions?"
   ]
  },
  {
   "cell_type": "code",
   "execution_count": 67,
   "metadata": {},
   "outputs": [
    {
     "name": "stdout",
     "output_type": "stream",
     "text": [
      "NJ-NY monthly payments:\n",
      "variance 2105\n",
      "count    459.000000\n",
      "mean      61.148824\n",
      "std       45.878945\n",
      "min       20.000000\n",
      "25%       20.000000\n",
      "50%       55.490000\n",
      "75%       71.320000\n",
      "max      290.000000\n",
      "Name: monthly_payments, dtype: float64\n",
      "-----------------------------------------------\n",
      "\n",
      "not NJ-NY monthly payments:\n",
      "variance 2299\n",
      "count    1834.000000\n",
      "mean       65.800911\n",
      "std        47.950552\n",
      "min        20.000000\n",
      "25%        26.442500\n",
      "50%        70.000000\n",
      "75%        70.000000\n",
      "max       600.370000\n",
      "Name: monthly_payments, dtype: float64\n"
     ]
    }
   ],
   "source": [
    "# IS the average revenue from users in NY-NJ area is different from that of the users from other regions?\n",
    "print(\"NJ-NY monthly payments:\")\n",
    "print(\"variance\",round(NJ_NY_monthly.monthly_payments.std()**2))\n",
    "print(NJ_NY_monthly.monthly_payments.describe())\n",
    "print(\"-----------------------------------------------\")\n",
    "print(\"\\nnot NJ-NY monthly payments:\")\n",
    "print(\"variance\",round(not_NJ_NY_monthly.monthly_payments.std()**2))\n",
    "print(not_NJ_NY_monthly.monthly_payments.describe())"
   ]
  },
  {
   "cell_type": "code",
   "execution_count": 70,
   "metadata": {},
   "outputs": [
    {
     "data": {
      "image/png": "[encoded data removed]",
      "text/plain": [
       "<Figure size 1152x360 with 2 Axes>"
      ]
     },
     "metadata": {
      "needs_background": "light"
     },
     "output_type": "display_data"
    }
   ],
   "source": [
    "# NY-NJ area revenue comparison:\n",
    "plt_NY_NJ = [NJ_NY_monthly.monthly_payments, not_NJ_NY_monthly.monthly_payments]\n",
    "fig, ax4 = plt.subplots(1,2,figsize=(16, 5))\n",
    "\n",
    "ax4[0].hist(plt_NY_NJ, histtype='stepfilled', alpha=0.5, density=True, bins=25, label=['NY-NJ','other regions'])\n",
    "ax4[0].legend(prop={'size': 10})\n",
    "ax4[0].set_xlabel('monthly payment')\n",
    "ax4[0].set_ylabel('Probability')\n",
    "ax4[0].set_title('NY-NJ to Other Regions: Histogram')\n",
    "\n",
    "ax4[1].boxplot(plt_NY_NJ, notch=True,vert=False, labels = ['NY-NJ','other regions'])\n",
    "ax4[1].set_xlabel('monthly payment')\n",
    "ax4[1].set_title('NY-NJ to Other Regions: Boxplot')\n",
    "\n",
    "plt.show()"
   ]
  },
  {
   "cell_type": "code",
   "execution_count": 71,
   "metadata": {},
   "outputs": [
    {
     "name": "stdout",
     "output_type": "stream",
     "text": [
      "ultimate plan percentage in NY-NJ is:      21.13 %\n",
      "ultimate plan percentage not in NY-NJ is:  33.97 %\n",
      "users outside of NY-NJ area are 60.7% more likly having an ultimate plan.\n"
     ]
    }
   ],
   "source": [
    "print(\"ultimate plan percentage in NY-NJ is:     \", round(100*NJ_NY_monthly.plan.mean(),2),\"%\" )\n",
    "print(\"ultimate plan percentage not in NY-NJ is: \", round(100*not_NJ_NY_monthly.plan.mean(),2),\"%\" )\n",
    "NY_NJ_plans_ratio = round(100*((not_NJ_NY_monthly.plan.mean() - NJ_NY_monthly.plan.mean() )/NJ_NY_monthly.plan.mean()),1)\n",
    "print(\"users outside of NY-NJ area are {:}% more likly having an ultimate plan.\".format(NY_NJ_plans_ratio))"
   ]
  },
  {
   "cell_type": "markdown",
   "metadata": {},
   "source": [
    "#### revenue by rigion formulated null hypothesis:"
   ]
  },
  {
   "cell_type": "markdown",
   "metadata": {},
   "source": [
    "* The formulated null hypothesis is: Average revenue from NJ-NY users and average revenue not from NJ-NY are equal.\n",
    "\n",
    "* The alternative hypothesis is: Average revenue from NJ-NY users and average revenue not from NJ-NY are not equal."
   ]
  },
  {
   "cell_type": "code",
   "execution_count": 72,
   "metadata": {},
   "outputs": [
    {
     "name": "stdout",
     "output_type": "stream",
     "text": [
      "alpha:    0.05\n",
      "p-value:  0.060944683763950805\n",
      "We can't reject the null hypothesis\n"
     ]
    }
   ],
   "source": [
    "#null hypothesis - average revenue from users from NJ-NY and users not from NJ-NY calling plans are equal. \n",
    "\n",
    "alpha = 0.05  \n",
    "results = st.ttest_ind(not_NJ_NY_monthly.monthly_payments, NJ_NY_monthly.monthly_payments)\n",
    "print('alpha:   ', alpha)\n",
    "print('p-value: ', results.pvalue)\n",
    "\n",
    "if (results.pvalue < alpha):\n",
    "    print('We reject the null hypothesis')\n",
    "else:\n",
    "    print(\"We can't reject the null hypothesis\") "
   ]
  },
  {
   "cell_type": "markdown",
   "metadata": {},
   "source": [
    "* I have chosen alpha = 0.05. \n",
    "* the p-value is close enoth to the alpha that we can further study this case with editional data and parameters."
   ]
  },
  {
   "cell_type": "markdown",
   "metadata": {},
   "source": [
    "## Overall conclusion"
   ]
  },
  {
   "cell_type": "code",
   "execution_count": 73,
   "metadata": {},
   "outputs": [
    {
     "name": "stdout",
     "output_type": "stream",
     "text": [
      "\n",
      "Precent of users that pay extra fees by plan:\n",
      "Ultimate:  5.69 %\n",
      "Surf:      97.01 %\n",
      "\n",
      "Precent of users that pay extra fees for calls duration:\n",
      "Ultimate:  0.0 %\n",
      "Surf:      30.77 %\n",
      "\n",
      "Precent of users that pay extra fees for messages:\n",
      "Ultimate:  0.0 %\n",
      "Surf:      22.5 %\n",
      "\n",
      "Precent of users that pay extra fees for Mb used:\n",
      "Ultimate:  5.69 %\n",
      "Surf:      57.91 %\n",
      "--------------------------------------------------------\n",
      "\n",
      "Users on the Ultimate plan are on average 17.83% more profitable than Surf users.\n",
      "\n",
      "--------------------------------------------------------\n",
      "\n",
      "Ultimate users with data usage greater than 20 Gb are more profitable as Surf users.\n",
      "\n"
     ]
    }
   ],
   "source": [
    "print(\"\")\n",
    "print(\"Precent of users that pay extra fees by plan:\")\n",
    "print(\"Ultimate: \",round(100*(1-len(monthly_ultimate.query('monthly_payments == 70'))/len(monthly_ultimate)),2),\"%\")\n",
    "print(\"Surf:     \",round(100*(1-len(monthly_surf.query('monthly_payments == 50'))/len(monthly_surf)),2),\"%\")\n",
    "print(\"\")\n",
    "print(\"Precent of users that pay extra fees for calls duration:\")\n",
    "print(\"Ultimate: \",round(100*(len(monthly_ultimate.query('calls_duration >= 3000'))/len(monthly_ultimate)),2),\"%\")\n",
    "print(\"Surf:     \",round(100*(len(monthly_surf.query('calls_duration >= 500'))/len(monthly_surf)),2),\"%\")\n",
    "print(\"\")\n",
    "print(\"Precent of users that pay extra fees for messages:\")\n",
    "print(\"Ultimate: \",round(100*(len(monthly_ultimate.query('number_of_messages >= 1000'))/len(monthly_ultimate)),2),\"%\")\n",
    "print(\"Surf:     \",round(100*(len(monthly_surf.query('number_of_messages >= 50'))/len(monthly_surf)),2),\"%\")\n",
    "print(\"\")\n",
    "print(\"Precent of users that pay extra fees for Mb used:\")\n",
    "print(\"Ultimate: \",round(100*(len(monthly_ultimate.query('mb_used >= 30720'))/len(monthly_ultimate)),2),\"%\")\n",
    "print(\"Surf:     \",round(100*(len(monthly_surf.query('mb_used >= 15360'))/len(monthly_surf)),2),\"%\")\n",
    "print(\"--------------------------------------------------------\")\n",
    "print(\"\")\n",
    "\n",
    "mean_dif = 100*round(monthly_ultimate.monthly_payments.mean()/monthly_surf.monthly_payments.mean()-1,4)\n",
    "print(\"Users on the Ultimate plan are on average {:}% more profitable than Surf users.\\n\".format(mean_dif))\n",
    "print(\"--------------------------------------------------------\")\n",
    "print(\"\")\n",
    "\n",
    "data_usage_treshhold = int(round(plans.mb_per_month_included[0]/1000) + ((plans.usd_monthly_pay[1]-plans.usd_monthly_pay[0])/plans.usd_per_gb[0]))\n",
    "print(\"Ultimate users with data usage greater than {:} Gb are more profitable as Surf users.\\n\".format(data_usage_treshhold))\n"
   ]
  },
  {
   "cell_type": "markdown",
   "metadata": {},
   "source": [
    "* Average revenue of the Surf plan is different from average revenue of the Ultimate plan with confidence level higher than 99%.\n",
    "\n",
    "* There is large difference in income variance between surf and ultimate users, surf/ultimate variance ratio is 23.24.\n",
    "\n",
    "* The difference in payment variance is comming from the extra fees of the plans.\n",
    "\n",
    "* Most of the ultimate users( 94.3%) pay the package base price of 70 dollars.\n",
    "\n",
    "* While the surf users pay much more fees and are more profitable to us as a company.\n",
    "\n",
    "* Most of the extra fees are comming from data usage.\n",
    "\n",
    "* Customers from NJ-NY area do not have distinct expenditure profile to customers in other rigions.\n",
    "\n",
    "* the reason is that users outside of NY-NJ area are 60.7% more likly having an ultimate plan.\n",
    " \n",
    "##### recommendations: \n",
    "* We can try convince ultimate with data usage greater than 20 Gb to change plans to surf.\n",
    "* As well as try and make the 27.4% of surf users that are not going over the plans limit to change to ultimate.\n"
   ]
  }
 ],
 "metadata": {
  "ExecuteTimeLog": [
   {
    "duration": 948,
    "start_time": "2021-11-03T14:00:49.560Z"
   },
   {
    "duration": 409,
    "start_time": "2021-11-03T14:00:50.510Z"
   },
   {
    "duration": 102,
    "start_time": "2021-11-03T14:01:20.873Z"
   },
   {
    "duration": 107,
    "start_time": "2021-11-03T14:05:01.380Z"
   },
   {
    "duration": 58,
    "start_time": "2021-11-03T14:05:01.661Z"
   },
   {
    "duration": 17,
    "start_time": "2021-11-03T14:05:01.917Z"
   },
   {
    "duration": 19,
    "start_time": "2021-11-03T14:05:02.138Z"
   },
   {
    "duration": 40,
    "start_time": "2021-11-03T14:09:45.330Z"
   },
   {
    "duration": 44,
    "start_time": "2021-11-03T14:11:42.739Z"
   },
   {
    "duration": 44,
    "start_time": "2021-11-03T14:13:03.059Z"
   },
   {
    "duration": 18,
    "start_time": "2021-11-03T14:13:32.913Z"
   },
   {
    "duration": 1692,
    "start_time": "2021-11-04T05:16:39.479Z"
   },
   {
    "duration": 57,
    "start_time": "2021-11-04T05:16:41.174Z"
   },
   {
    "duration": 68,
    "start_time": "2021-11-04T05:21:04.590Z"
   },
   {
    "duration": 47,
    "start_time": "2021-11-04T05:21:11.885Z"
   },
   {
    "duration": 25,
    "start_time": "2021-11-04T05:21:33.493Z"
   },
   {
    "duration": 33,
    "start_time": "2021-11-04T05:26:23.935Z"
   },
   {
    "duration": 34,
    "start_time": "2021-11-04T05:26:59.703Z"
   },
   {
    "duration": 34,
    "start_time": "2021-11-04T05:30:47.433Z"
   },
   {
    "duration": 39,
    "start_time": "2021-11-04T05:31:18.027Z"
   },
   {
    "duration": 35,
    "start_time": "2021-11-04T05:33:47.551Z"
   },
   {
    "duration": 18,
    "start_time": "2021-11-04T05:40:32.644Z"
   },
   {
    "duration": 18,
    "start_time": "2021-11-04T05:40:48.213Z"
   },
   {
    "duration": 413,
    "start_time": "2021-11-04T05:43:02.544Z"
   },
   {
    "duration": 314,
    "start_time": "2021-11-04T05:43:22.648Z"
   },
   {
    "duration": 522,
    "start_time": "2021-11-04T05:44:29.804Z"
   },
   {
    "duration": 290,
    "start_time": "2021-11-04T05:45:31.224Z"
   },
   {
    "duration": 257,
    "start_time": "2021-11-04T05:45:54.604Z"
   },
   {
    "duration": 389,
    "start_time": "2021-11-04T05:47:15.325Z"
   },
   {
    "duration": 286,
    "start_time": "2021-11-04T05:47:20.804Z"
   },
   {
    "duration": 385,
    "start_time": "2021-11-04T05:47:59.172Z"
   },
   {
    "duration": 62,
    "start_time": "2021-11-04T05:48:00.632Z"
   },
   {
    "duration": 400,
    "start_time": "2021-11-04T05:50:31.036Z"
   },
   {
    "duration": 16,
    "start_time": "2021-11-04T05:51:02.095Z"
   },
   {
    "duration": 277,
    "start_time": "2021-11-04T05:53:39.316Z"
   },
   {
    "duration": 14,
    "start_time": "2021-11-04T05:53:57.116Z"
   },
   {
    "duration": 60,
    "start_time": "2021-11-04T05:54:24.063Z"
   },
   {
    "duration": 84,
    "start_time": "2021-11-04T05:54:57.637Z"
   },
   {
    "duration": 38,
    "start_time": "2021-11-04T05:55:10.236Z"
   },
   {
    "duration": 30,
    "start_time": "2021-11-04T05:55:26.536Z"
   },
   {
    "duration": 60,
    "start_time": "2021-11-04T05:55:47.737Z"
   },
   {
    "duration": 46,
    "start_time": "2021-11-04T06:01:41.156Z"
   },
   {
    "duration": 44,
    "start_time": "2021-11-04T06:02:15.100Z"
   },
   {
    "duration": 47,
    "start_time": "2021-11-04T06:02:33.656Z"
   },
   {
    "duration": 44,
    "start_time": "2021-11-04T06:05:30.471Z"
   },
   {
    "duration": 38,
    "start_time": "2021-11-04T06:05:39.082Z"
   },
   {
    "duration": 67,
    "start_time": "2021-11-04T06:07:11.004Z"
   },
   {
    "duration": 53,
    "start_time": "2021-11-04T06:07:33.304Z"
   },
   {
    "duration": 15,
    "start_time": "2021-11-04T06:08:11.953Z"
   },
   {
    "duration": 34,
    "start_time": "2021-11-04T06:13:15.444Z"
   },
   {
    "duration": 14,
    "start_time": "2021-11-04T06:13:18.944Z"
   },
   {
    "duration": 42,
    "start_time": "2021-11-04T06:14:28.804Z"
   },
   {
    "duration": 56,
    "start_time": "2021-11-04T06:14:29.185Z"
   },
   {
    "duration": 14,
    "start_time": "2021-11-04T06:14:29.744Z"
   },
   {
    "duration": 94,
    "start_time": "2021-11-04T06:16:12.193Z"
   },
   {
    "duration": 13,
    "start_time": "2021-11-04T06:16:41.433Z"
   },
   {
    "duration": 275,
    "start_time": "2021-11-04T06:17:40.115Z"
   },
   {
    "duration": 261,
    "start_time": "2021-11-04T06:17:55.166Z"
   },
   {
    "duration": 34,
    "start_time": "2021-11-04T06:18:51.606Z"
   },
   {
    "duration": 35,
    "start_time": "2021-11-04T06:19:25.229Z"
   },
   {
    "duration": 122,
    "start_time": "2021-11-04T06:19:59.129Z"
   },
   {
    "duration": 13,
    "start_time": "2021-11-04T06:22:33.662Z"
   },
   {
    "duration": 265,
    "start_time": "2021-11-04T06:22:48.262Z"
   },
   {
    "duration": 13,
    "start_time": "2021-11-04T06:22:55.392Z"
   },
   {
    "duration": 135,
    "start_time": "2021-11-04T06:23:23.162Z"
   },
   {
    "duration": 7,
    "start_time": "2021-11-04T06:23:31.712Z"
   },
   {
    "duration": 111,
    "start_time": "2021-11-04T06:23:56.742Z"
   },
   {
    "duration": 138,
    "start_time": "2021-11-04T06:24:10.433Z"
   },
   {
    "duration": 30,
    "start_time": "2021-11-04T06:24:26.632Z"
   },
   {
    "duration": 111,
    "start_time": "2021-11-04T06:24:40.842Z"
   },
   {
    "duration": 27,
    "start_time": "2021-11-04T06:24:43.762Z"
   },
   {
    "duration": 10,
    "start_time": "2021-11-04T06:26:29.672Z"
   },
   {
    "duration": 4,
    "start_time": "2021-11-04T06:26:55.552Z"
   },
   {
    "duration": 36,
    "start_time": "2021-11-04T06:28:20.602Z"
   },
   {
    "duration": 52,
    "start_time": "2021-11-04T06:29:54.252Z"
   },
   {
    "duration": 14,
    "start_time": "2021-11-04T06:29:55.072Z"
   },
   {
    "duration": 115,
    "start_time": "2021-11-04T06:29:55.432Z"
   },
   {
    "duration": 30,
    "start_time": "2021-11-04T06:29:55.722Z"
   },
   {
    "duration": 3,
    "start_time": "2021-11-04T06:29:55.972Z"
   },
   {
    "duration": 9,
    "start_time": "2021-11-04T06:30:27.302Z"
   },
   {
    "duration": 12,
    "start_time": "2021-11-04T06:30:56.911Z"
   },
   {
    "duration": 3,
    "start_time": "2021-11-04T06:31:20.482Z"
   },
   {
    "duration": 27,
    "start_time": "2021-11-04T06:32:47.162Z"
   },
   {
    "duration": 534,
    "start_time": "2021-11-04T07:33:36.544Z"
   },
   {
    "duration": 94,
    "start_time": "2021-11-04T07:34:27.616Z"
   },
   {
    "duration": 7450,
    "start_time": "2021-11-04T07:36:36.763Z"
   },
   {
    "duration": 7114,
    "start_time": "2021-11-04T07:36:57.823Z"
   },
   {
    "duration": 85,
    "start_time": "2021-11-04T07:37:43.503Z"
   },
   {
    "duration": 97,
    "start_time": "2021-11-04T07:37:53.402Z"
   },
   {
    "duration": 118,
    "start_time": "2021-11-04T07:37:57.723Z"
   },
   {
    "duration": 95,
    "start_time": "2021-11-04T07:39:36.006Z"
   },
   {
    "duration": 113,
    "start_time": "2021-11-04T07:40:05.886Z"
   },
   {
    "duration": 87,
    "start_time": "2021-11-04T07:42:47.874Z"
   },
   {
    "duration": 286,
    "start_time": "2021-11-04T07:43:09.500Z"
   },
   {
    "duration": 5132,
    "start_time": "2021-11-04T07:43:26.166Z"
   },
   {
    "duration": 245,
    "start_time": "2021-11-04T07:48:35.508Z"
   },
   {
    "duration": 282,
    "start_time": "2021-11-04T07:48:56.336Z"
   },
   {
    "duration": 4772,
    "start_time": "2021-11-04T07:50:00.106Z"
   },
   {
    "duration": 317,
    "start_time": "2021-11-04T07:50:16.546Z"
   },
   {
    "duration": 4948,
    "start_time": "2021-11-04T07:50:51.087Z"
   },
   {
    "duration": 265,
    "start_time": "2021-11-04T07:51:25.221Z"
   },
   {
    "duration": 272,
    "start_time": "2021-11-04T07:55:03.301Z"
   },
   {
    "duration": 257,
    "start_time": "2021-11-04T07:58:24.068Z"
   },
   {
    "duration": 301,
    "start_time": "2021-11-04T07:59:28.068Z"
   },
   {
    "duration": 3716,
    "start_time": "2021-11-04T08:00:50.016Z"
   },
   {
    "duration": 264,
    "start_time": "2021-11-04T08:01:26.790Z"
   },
   {
    "duration": 93,
    "start_time": "2021-11-04T08:01:45.198Z"
   },
   {
    "duration": 435,
    "start_time": "2021-11-04T08:02:14.893Z"
   },
   {
    "duration": 286,
    "start_time": "2021-11-04T08:03:01.348Z"
   },
   {
    "duration": 2223,
    "start_time": "2021-11-04T08:03:13.708Z"
   },
   {
    "duration": 4068,
    "start_time": "2021-11-04T08:03:46.129Z"
   },
   {
    "duration": 3789,
    "start_time": "2021-11-04T08:04:01.068Z"
   },
   {
    "duration": 3933,
    "start_time": "2021-11-04T08:05:00.129Z"
   },
   {
    "duration": 3879,
    "start_time": "2021-11-04T08:06:06.189Z"
   },
   {
    "duration": 24,
    "start_time": "2021-11-04T08:06:22.629Z"
   },
   {
    "duration": 8,
    "start_time": "2021-11-04T08:07:13.068Z"
   },
   {
    "duration": 293,
    "start_time": "2021-11-04T08:08:12.243Z"
   },
   {
    "duration": 2781,
    "start_time": "2021-11-04T08:08:42.683Z"
   },
   {
    "duration": 9,
    "start_time": "2021-11-04T08:08:45.843Z"
   },
   {
    "duration": 2733,
    "start_time": "2021-11-04T08:09:24.832Z"
   },
   {
    "duration": 3706,
    "start_time": "2021-11-04T08:10:27.171Z"
   },
   {
    "duration": 120,
    "start_time": "2021-11-04T08:10:56.592Z"
   },
   {
    "duration": 3748,
    "start_time": "2021-11-04T08:11:06.952Z"
   },
   {
    "duration": 3689,
    "start_time": "2021-11-04T08:11:46.491Z"
   },
   {
    "duration": 2869,
    "start_time": "2021-11-04T08:12:32.966Z"
   },
   {
    "duration": 87,
    "start_time": "2021-11-04T08:12:48.006Z"
   },
   {
    "duration": 3632,
    "start_time": "2021-11-04T08:13:06.159Z"
   },
   {
    "duration": 2776,
    "start_time": "2021-11-04T08:13:52.906Z"
   },
   {
    "duration": 2662,
    "start_time": "2021-11-04T08:14:09.226Z"
   },
   {
    "duration": 2602,
    "start_time": "2021-11-04T08:14:22.874Z"
   },
   {
    "duration": 2610,
    "start_time": "2021-11-04T08:15:53.194Z"
   },
   {
    "duration": 2602,
    "start_time": "2021-11-04T08:16:18.573Z"
   },
   {
    "duration": 1829,
    "start_time": "2021-11-04T08:16:29.868Z"
   },
   {
    "duration": 64,
    "start_time": "2021-11-04T08:16:31.700Z"
   },
   {
    "duration": 27,
    "start_time": "2021-11-04T08:16:31.767Z"
   },
   {
    "duration": 128,
    "start_time": "2021-11-04T08:16:31.797Z"
   },
   {
    "duration": 44,
    "start_time": "2021-11-04T08:16:31.928Z"
   },
   {
    "duration": 63,
    "start_time": "2021-11-04T08:16:31.975Z"
   },
   {
    "duration": 51,
    "start_time": "2021-11-04T08:16:32.040Z"
   },
   {
    "duration": 29,
    "start_time": "2021-11-04T08:16:32.095Z"
   },
   {
    "duration": 99,
    "start_time": "2021-11-04T08:16:32.126Z"
   },
   {
    "duration": 38,
    "start_time": "2021-11-04T08:16:32.229Z"
   },
   {
    "duration": 2764,
    "start_time": "2021-11-04T08:16:32.270Z"
   },
   {
    "duration": 382,
    "start_time": "2021-11-04T08:16:35.036Z"
   },
   {
    "duration": 3548,
    "start_time": "2021-11-04T08:17:29.620Z"
   },
   {
    "duration": 4,
    "start_time": "2021-11-04T08:17:34.340Z"
   },
   {
    "duration": 274,
    "start_time": "2021-11-04T08:17:49.500Z"
   },
   {
    "duration": 2807,
    "start_time": "2021-11-04T08:17:57.288Z"
   },
   {
    "duration": 3521,
    "start_time": "2021-11-04T08:22:22.671Z"
   },
   {
    "duration": 3398,
    "start_time": "2021-11-04T08:22:35.951Z"
   },
   {
    "duration": 3666,
    "start_time": "2021-11-04T08:23:02.074Z"
   },
   {
    "duration": 3161,
    "start_time": "2021-11-04T08:23:21.112Z"
   },
   {
    "duration": 3203,
    "start_time": "2021-11-04T08:23:49.891Z"
   },
   {
    "duration": 8,
    "start_time": "2021-11-04T08:23:53.097Z"
   },
   {
    "duration": 3132,
    "start_time": "2021-11-04T08:23:57.051Z"
   },
   {
    "duration": 8,
    "start_time": "2021-11-04T08:24:00.771Z"
   },
   {
    "duration": 3975,
    "start_time": "2021-11-04T08:24:17.811Z"
   },
   {
    "duration": 3760,
    "start_time": "2021-11-04T08:24:39.611Z"
   },
   {
    "duration": 8,
    "start_time": "2021-11-04T08:24:44.951Z"
   },
   {
    "duration": 6679,
    "start_time": "2021-11-04T08:25:32.939Z"
   },
   {
    "duration": 17,
    "start_time": "2021-11-04T08:25:41.891Z"
   },
   {
    "duration": 18,
    "start_time": "2021-11-04T08:26:33.892Z"
   },
   {
    "duration": 6398,
    "start_time": "2021-11-04T08:26:35.351Z"
   },
   {
    "duration": 3566,
    "start_time": "2021-11-04T08:27:01.751Z"
   },
   {
    "duration": 16,
    "start_time": "2021-11-04T08:27:10.111Z"
   },
   {
    "duration": 3800,
    "start_time": "2021-11-04T08:27:34.431Z"
   },
   {
    "duration": 9,
    "start_time": "2021-11-04T08:35:25.715Z"
   },
   {
    "duration": 1121,
    "start_time": "2021-11-04T08:50:41.011Z"
   },
   {
    "duration": 19,
    "start_time": "2021-11-04T08:50:43.950Z"
   },
   {
    "duration": 1144,
    "start_time": "2021-11-04T08:53:23.986Z"
   },
   {
    "duration": 27,
    "start_time": "2021-11-04T08:53:26.486Z"
   },
   {
    "duration": 6,
    "start_time": "2021-11-04T08:54:07.104Z"
   },
   {
    "duration": 271,
    "start_time": "2021-11-04T08:54:15.492Z"
   },
   {
    "duration": 6,
    "start_time": "2021-11-04T08:54:27.494Z"
   },
   {
    "duration": 1834,
    "start_time": "2021-11-04T08:56:09.499Z"
   },
   {
    "duration": 30,
    "start_time": "2021-11-04T08:56:11.336Z"
   },
   {
    "duration": 196,
    "start_time": "2021-11-04T08:58:16.917Z"
   },
   {
    "duration": 17,
    "start_time": "2021-11-04T08:58:19.152Z"
   },
   {
    "duration": 3701,
    "start_time": "2021-11-04T09:00:06.079Z"
   },
   {
    "duration": 206,
    "start_time": "2021-11-04T09:00:09.784Z"
   },
   {
    "duration": 31,
    "start_time": "2021-11-04T09:00:09.993Z"
   },
   {
    "duration": 420,
    "start_time": "2021-11-04T09:01:44.313Z"
   },
   {
    "duration": 438,
    "start_time": "2021-11-04T09:02:15.110Z"
   },
   {
    "duration": 201,
    "start_time": "2021-11-04T09:09:42.270Z"
   },
   {
    "duration": 619,
    "start_time": "2021-11-04T09:10:00.016Z"
   },
   {
    "duration": 28,
    "start_time": "2021-11-04T09:18:35.679Z"
   },
   {
    "duration": 7,
    "start_time": "2021-11-04T09:19:36.026Z"
   },
   {
    "duration": 282,
    "start_time": "2021-11-04T09:19:45.699Z"
   },
   {
    "duration": 298,
    "start_time": "2021-11-04T09:20:05.328Z"
   },
   {
    "duration": 290,
    "start_time": "2021-11-04T09:20:15.733Z"
   },
   {
    "duration": 267,
    "start_time": "2021-11-04T09:20:56.220Z"
   },
   {
    "duration": 277,
    "start_time": "2021-11-04T09:21:05.028Z"
   },
   {
    "duration": 268,
    "start_time": "2021-11-04T09:21:41.020Z"
   },
   {
    "duration": 6,
    "start_time": "2021-11-04T09:22:20.660Z"
   },
   {
    "duration": 6,
    "start_time": "2021-11-04T09:22:24.379Z"
   },
   {
    "duration": 274,
    "start_time": "2021-11-04T09:24:03.240Z"
   },
   {
    "duration": 421,
    "start_time": "2021-11-04T09:24:16.159Z"
   },
   {
    "duration": 1346,
    "start_time": "2021-11-04T09:26:35.021Z"
   },
   {
    "duration": 655,
    "start_time": "2021-11-04T09:26:42.680Z"
   },
   {
    "duration": 402,
    "start_time": "2021-11-04T09:26:53.662Z"
   },
   {
    "duration": 483,
    "start_time": "2021-11-04T09:27:04.420Z"
   },
   {
    "duration": 415,
    "start_time": "2021-11-04T09:27:10.761Z"
   },
   {
    "duration": 408,
    "start_time": "2021-11-04T09:27:14.519Z"
   },
   {
    "duration": 680,
    "start_time": "2021-11-04T09:28:27.983Z"
   },
   {
    "duration": 736,
    "start_time": "2021-11-04T09:29:08.380Z"
   },
   {
    "duration": 450,
    "start_time": "2021-11-04T09:29:29.561Z"
   },
   {
    "duration": 1347,
    "start_time": "2021-11-04T09:30:00.101Z"
   },
   {
    "duration": 548,
    "start_time": "2021-11-04T09:30:16.881Z"
   },
   {
    "duration": 453,
    "start_time": "2021-11-04T09:30:25.380Z"
   },
   {
    "duration": 259,
    "start_time": "2021-11-04T09:34:36.233Z"
   },
   {
    "duration": 261,
    "start_time": "2021-11-04T09:35:42.099Z"
   },
   {
    "duration": 11,
    "start_time": "2021-11-04T09:35:51.379Z"
   },
   {
    "duration": 402,
    "start_time": "2021-11-04T09:36:27.579Z"
   },
   {
    "duration": 10,
    "start_time": "2021-11-04T09:36:45.999Z"
   },
   {
    "duration": 259,
    "start_time": "2021-11-04T09:37:20.078Z"
   },
   {
    "duration": 17,
    "start_time": "2021-11-04T09:37:25.259Z"
   },
   {
    "duration": 9,
    "start_time": "2021-11-04T09:39:34.452Z"
   },
   {
    "duration": 24,
    "start_time": "2021-11-04T09:39:43.813Z"
   },
   {
    "duration": 19,
    "start_time": "2021-11-04T09:39:51.354Z"
   },
   {
    "duration": 311,
    "start_time": "2021-11-04T09:40:33.633Z"
   },
   {
    "duration": 536,
    "start_time": "2021-11-04T09:40:51.213Z"
   },
   {
    "duration": 25,
    "start_time": "2021-11-04T09:42:34.613Z"
   },
   {
    "duration": 289,
    "start_time": "2021-11-04T09:42:49.429Z"
   },
   {
    "duration": 19,
    "start_time": "2021-11-04T09:45:45.652Z"
   },
   {
    "duration": 255,
    "start_time": "2021-11-04T09:46:11.033Z"
   },
   {
    "duration": 22,
    "start_time": "2021-11-04T09:46:20.083Z"
   },
   {
    "duration": 498,
    "start_time": "2021-11-04T09:46:56.173Z"
   },
   {
    "duration": 22,
    "start_time": "2021-11-04T09:47:29.560Z"
   },
   {
    "duration": 288,
    "start_time": "2021-11-04T09:51:49.023Z"
   },
   {
    "duration": 354,
    "start_time": "2021-11-04T09:52:02.712Z"
   },
   {
    "duration": 297,
    "start_time": "2021-11-04T09:52:27.176Z"
   },
   {
    "duration": 268,
    "start_time": "2021-11-04T09:55:06.153Z"
   },
   {
    "duration": 12,
    "start_time": "2021-11-04T09:55:10.781Z"
   },
   {
    "duration": 336,
    "start_time": "2021-11-04T09:55:20.034Z"
   },
   {
    "duration": 255,
    "start_time": "2021-11-04T09:55:49.713Z"
   },
   {
    "duration": 379,
    "start_time": "2021-11-04T09:55:55.454Z"
   },
   {
    "duration": 16,
    "start_time": "2021-11-04T09:56:45.993Z"
   },
   {
    "duration": 273,
    "start_time": "2021-11-04T09:58:44.802Z"
   },
   {
    "duration": 448,
    "start_time": "2021-11-04T10:00:38.701Z"
   },
   {
    "duration": 21,
    "start_time": "2021-11-04T10:04:50.317Z"
   },
   {
    "duration": 24,
    "start_time": "2021-11-04T10:06:12.881Z"
   },
   {
    "duration": 414,
    "start_time": "2021-11-04T10:09:04.220Z"
   },
   {
    "duration": 402,
    "start_time": "2021-11-04T10:09:35.620Z"
   },
   {
    "duration": 411,
    "start_time": "2021-11-04T10:09:43.621Z"
   },
   {
    "duration": 425,
    "start_time": "2021-11-04T10:11:27.280Z"
   },
   {
    "duration": 377,
    "start_time": "2021-11-04T10:13:56.059Z"
   },
   {
    "duration": 410,
    "start_time": "2021-11-04T10:14:45.579Z"
   },
   {
    "duration": 15,
    "start_time": "2021-11-04T10:18:55.341Z"
   },
   {
    "duration": 20,
    "start_time": "2021-11-04T10:19:59.130Z"
   },
   {
    "duration": 422,
    "start_time": "2021-11-04T10:20:39.641Z"
   },
   {
    "duration": 443,
    "start_time": "2021-11-04T10:21:31.506Z"
   },
   {
    "duration": 459,
    "start_time": "2021-11-04T11:08:20.206Z"
   },
   {
    "duration": 691,
    "start_time": "2021-11-04T11:10:08.699Z"
   },
   {
    "duration": 507,
    "start_time": "2021-11-04T11:13:16.629Z"
   },
   {
    "duration": 484,
    "start_time": "2021-11-04T11:13:40.079Z"
   },
   {
    "duration": 89,
    "start_time": "2021-11-04T11:17:27.300Z"
   },
   {
    "duration": 95,
    "start_time": "2021-11-04T11:17:36.531Z"
   },
   {
    "duration": 91,
    "start_time": "2021-11-04T11:18:06.455Z"
   },
   {
    "duration": 488,
    "start_time": "2021-11-04T11:18:12.712Z"
   },
   {
    "duration": 489,
    "start_time": "2021-11-04T11:18:59.626Z"
   },
   {
    "duration": 657,
    "start_time": "2021-11-04T11:19:07.620Z"
   },
   {
    "duration": 485,
    "start_time": "2021-11-04T11:21:45.185Z"
   },
   {
    "duration": 474,
    "start_time": "2021-11-04T11:22:07.903Z"
   },
   {
    "duration": 476,
    "start_time": "2021-11-04T11:22:15.210Z"
   },
   {
    "duration": 483,
    "start_time": "2021-11-04T11:22:33.770Z"
   },
   {
    "duration": 16,
    "start_time": "2021-11-04T11:24:32.657Z"
   },
   {
    "duration": 14,
    "start_time": "2021-11-04T11:24:52.658Z"
   },
   {
    "duration": 16,
    "start_time": "2021-11-04T11:25:46.857Z"
   },
   {
    "duration": 104,
    "start_time": "2021-11-04T11:25:52.697Z"
   },
   {
    "duration": 3583,
    "start_time": "2021-11-04T11:25:54.223Z"
   },
   {
    "duration": 3645,
    "start_time": "2021-11-04T11:26:03.239Z"
   },
   {
    "duration": 757,
    "start_time": "2021-11-04T11:26:06.887Z"
   },
   {
    "duration": 25,
    "start_time": "2021-11-04T11:26:07.648Z"
   },
   {
    "duration": 14,
    "start_time": "2021-11-04T11:26:07.676Z"
   },
   {
    "duration": 565,
    "start_time": "2021-11-04T11:26:07.693Z"
   },
   {
    "duration": 435,
    "start_time": "2021-11-04T11:26:08.260Z"
   },
   {
    "duration": 432,
    "start_time": "2021-11-04T11:26:08.697Z"
   },
   {
    "duration": 15,
    "start_time": "2021-11-04T11:26:09.132Z"
   },
   {
    "duration": 442,
    "start_time": "2021-11-04T11:26:09.149Z"
   },
   {
    "duration": 459,
    "start_time": "2021-11-04T11:28:08.668Z"
   },
   {
    "duration": 39,
    "start_time": "2021-11-04T11:28:11.725Z"
   },
   {
    "duration": 15,
    "start_time": "2021-11-04T11:28:13.759Z"
   },
   {
    "duration": 73,
    "start_time": "2021-11-04T11:28:13.988Z"
   },
   {
    "duration": 3637,
    "start_time": "2021-11-04T11:28:14.218Z"
   },
   {
    "duration": 745,
    "start_time": "2021-11-04T11:28:17.858Z"
   },
   {
    "duration": 33,
    "start_time": "2021-11-04T11:28:18.606Z"
   },
   {
    "duration": 6,
    "start_time": "2021-11-04T11:28:18.642Z"
   },
   {
    "duration": 451,
    "start_time": "2021-11-04T11:28:18.650Z"
   },
   {
    "duration": 439,
    "start_time": "2021-11-04T11:28:19.103Z"
   },
   {
    "duration": 450,
    "start_time": "2021-11-04T11:28:19.545Z"
   },
   {
    "duration": 25,
    "start_time": "2021-11-04T11:28:19.999Z"
   },
   {
    "duration": 546,
    "start_time": "2021-11-04T11:28:20.027Z"
   },
   {
    "duration": 12,
    "start_time": "2021-11-04T11:29:42.938Z"
   },
   {
    "duration": 14,
    "start_time": "2021-11-04T11:31:02.572Z"
   },
   {
    "duration": 84,
    "start_time": "2021-11-04T11:32:28.603Z"
   },
   {
    "duration": 44,
    "start_time": "2021-11-04T11:32:37.053Z"
   },
   {
    "duration": 14,
    "start_time": "2021-11-04T11:32:41.408Z"
   },
   {
    "duration": 49,
    "start_time": "2021-11-04T11:33:32.382Z"
   },
   {
    "duration": 13,
    "start_time": "2021-11-04T11:33:33.888Z"
   },
   {
    "duration": 16,
    "start_time": "2021-11-04T11:34:13.073Z"
   },
   {
    "duration": 89,
    "start_time": "2021-11-04T11:34:15.015Z"
   },
   {
    "duration": 5178,
    "start_time": "2021-11-04T11:34:15.262Z"
   },
   {
    "duration": 993,
    "start_time": "2021-11-04T11:34:20.444Z"
   },
   {
    "duration": 23,
    "start_time": "2021-11-04T11:34:21.440Z"
   },
   {
    "duration": 11,
    "start_time": "2021-11-04T11:34:21.465Z"
   },
   {
    "duration": 451,
    "start_time": "2021-11-04T11:34:21.478Z"
   },
   {
    "duration": 455,
    "start_time": "2021-11-04T11:34:21.931Z"
   },
   {
    "duration": 433,
    "start_time": "2021-11-04T11:34:22.389Z"
   },
   {
    "duration": 18,
    "start_time": "2021-11-04T11:34:22.827Z"
   },
   {
    "duration": 459,
    "start_time": "2021-11-04T11:34:22.847Z"
   },
   {
    "duration": 642,
    "start_time": "2021-11-04T11:40:14.830Z"
   },
   {
    "duration": 2087,
    "start_time": "2021-11-04T11:42:21.181Z"
   },
   {
    "duration": 58,
    "start_time": "2021-11-04T11:42:23.271Z"
   },
   {
    "duration": 28,
    "start_time": "2021-11-04T11:42:23.332Z"
   },
   {
    "duration": 94,
    "start_time": "2021-11-04T11:42:23.363Z"
   },
   {
    "duration": 34,
    "start_time": "2021-11-04T11:42:23.459Z"
   },
   {
    "duration": 62,
    "start_time": "2021-11-04T11:42:23.495Z"
   },
   {
    "duration": 507,
    "start_time": "2021-11-04T11:42:23.559Z"
   },
   {
    "duration": 60,
    "start_time": "2021-11-04T11:42:24.070Z"
   },
   {
    "duration": 16,
    "start_time": "2021-11-04T11:42:24.133Z"
   },
   {
    "duration": 119,
    "start_time": "2021-11-04T11:42:24.152Z"
   },
   {
    "duration": 3930,
    "start_time": "2021-11-04T11:42:24.274Z"
   },
   {
    "duration": 663,
    "start_time": "2021-11-04T11:42:28.206Z"
   },
   {
    "duration": 444,
    "start_time": "2021-11-04T11:42:28.872Z"
   },
   {
    "duration": 450,
    "start_time": "2021-11-04T11:42:29.323Z"
   },
   {
    "duration": 435,
    "start_time": "2021-11-04T11:42:29.776Z"
   },
   {
    "duration": 22,
    "start_time": "2021-11-04T11:42:30.214Z"
   },
   {
    "duration": 449,
    "start_time": "2021-11-04T11:42:30.239Z"
   },
   {
    "duration": 273,
    "start_time": "2021-11-05T06:20:42.601Z"
   },
   {
    "duration": 1351,
    "start_time": "2021-11-05T06:20:54.329Z"
   },
   {
    "duration": 44,
    "start_time": "2021-11-05T06:20:55.683Z"
   },
   {
    "duration": 16,
    "start_time": "2021-11-05T06:20:55.730Z"
   },
   {
    "duration": 57,
    "start_time": "2021-11-05T06:20:55.748Z"
   },
   {
    "duration": 24,
    "start_time": "2021-11-05T06:20:55.807Z"
   },
   {
    "duration": 44,
    "start_time": "2021-11-05T06:20:55.832Z"
   },
   {
    "duration": 308,
    "start_time": "2021-11-05T06:20:55.877Z"
   },
   {
    "duration": 35,
    "start_time": "2021-11-05T06:20:56.186Z"
   },
   {
    "duration": 10,
    "start_time": "2021-11-05T06:20:56.223Z"
   },
   {
    "duration": 80,
    "start_time": "2021-11-05T06:20:56.235Z"
   },
   {
    "duration": 2212,
    "start_time": "2021-11-05T06:20:56.317Z"
   },
   {
    "duration": 364,
    "start_time": "2021-11-05T06:20:58.530Z"
   },
   {
    "duration": 11,
    "start_time": "2021-11-05T06:20:58.896Z"
   },
   {
    "duration": 265,
    "start_time": "2021-11-05T06:20:58.908Z"
   },
   {
    "duration": 265,
    "start_time": "2021-11-05T06:20:59.175Z"
   },
   {
    "duration": 245,
    "start_time": "2021-11-05T06:20:59.442Z"
   },
   {
    "duration": 10,
    "start_time": "2021-11-05T06:20:59.689Z"
   },
   {
    "duration": 262,
    "start_time": "2021-11-05T06:20:59.701Z"
   },
   {
    "duration": 5,
    "start_time": "2021-11-05T06:22:28.098Z"
   },
   {
    "duration": 7,
    "start_time": "2021-11-05T06:22:41.710Z"
   },
   {
    "duration": 7,
    "start_time": "2021-11-05T06:23:05.175Z"
   },
   {
    "duration": 5,
    "start_time": "2021-11-05T06:23:22.976Z"
   },
   {
    "duration": 8,
    "start_time": "2021-11-05T06:23:25.436Z"
   },
   {
    "duration": 92,
    "start_time": "2021-11-05T06:23:57.311Z"
   },
   {
    "duration": 7,
    "start_time": "2021-11-05T06:24:06.962Z"
   },
   {
    "duration": 8,
    "start_time": "2021-11-05T06:24:17.174Z"
   },
   {
    "duration": 55,
    "start_time": "2021-11-05T06:29:08.538Z"
   },
   {
    "duration": 12,
    "start_time": "2021-11-05T06:30:30.159Z"
   },
   {
    "duration": 596,
    "start_time": "2021-11-05T06:33:15.451Z"
   },
   {
    "duration": 344,
    "start_time": "2021-11-05T06:34:37.989Z"
   },
   {
    "duration": 337,
    "start_time": "2021-11-05T06:44:44.469Z"
   },
   {
    "duration": 404,
    "start_time": "2021-11-05T06:45:11.920Z"
   },
   {
    "duration": 6,
    "start_time": "2021-11-05T06:45:22.757Z"
   },
   {
    "duration": 6,
    "start_time": "2021-11-05T06:45:26.647Z"
   },
   {
    "duration": 260,
    "start_time": "2021-11-05T06:46:10.953Z"
   },
   {
    "duration": 467,
    "start_time": "2021-11-05T06:46:39.369Z"
   },
   {
    "duration": 481,
    "start_time": "2021-11-05T06:47:57.121Z"
   },
   {
    "duration": 479,
    "start_time": "2021-11-05T06:48:09.380Z"
   },
   {
    "duration": 376,
    "start_time": "2021-11-05T06:48:15.207Z"
   },
   {
    "duration": 650,
    "start_time": "2021-11-05T06:54:28.955Z"
   },
   {
    "duration": 600,
    "start_time": "2021-11-05T06:55:36.069Z"
   },
   {
    "duration": 491,
    "start_time": "2021-11-05T06:55:59.015Z"
   },
   {
    "duration": 385,
    "start_time": "2021-11-05T06:56:18.181Z"
   },
   {
    "duration": 3,
    "start_time": "2021-11-05T07:00:24.468Z"
   },
   {
    "duration": 4,
    "start_time": "2021-11-05T07:00:32.975Z"
   },
   {
    "duration": 275,
    "start_time": "2021-11-05T07:03:19.724Z"
   },
   {
    "duration": 269,
    "start_time": "2021-11-05T07:04:13.795Z"
   },
   {
    "duration": 311,
    "start_time": "2021-11-05T07:04:26.309Z"
   },
   {
    "duration": 252,
    "start_time": "2021-11-05T07:04:35.201Z"
   },
   {
    "duration": 11,
    "start_time": "2021-11-05T07:06:01.153Z"
   },
   {
    "duration": 513,
    "start_time": "2021-11-05T07:06:45.451Z"
   },
   {
    "duration": 526,
    "start_time": "2021-11-05T07:10:25.154Z"
   },
   {
    "duration": 336,
    "start_time": "2021-11-05T07:11:55.279Z"
   },
   {
    "duration": 324,
    "start_time": "2021-11-05T07:12:18.523Z"
   },
   {
    "duration": 425,
    "start_time": "2021-11-05T07:12:30.791Z"
   },
   {
    "duration": 243,
    "start_time": "2021-11-05T07:12:45.878Z"
   },
   {
    "duration": 264,
    "start_time": "2021-11-05T07:12:58.299Z"
   },
   {
    "duration": 326,
    "start_time": "2021-11-05T07:21:12.012Z"
   },
   {
    "duration": 354,
    "start_time": "2021-11-05T08:32:50.033Z"
   },
   {
    "duration": 266,
    "start_time": "2021-11-05T08:34:35.674Z"
   },
   {
    "duration": 346,
    "start_time": "2021-11-05T08:35:07.879Z"
   },
   {
    "duration": 372,
    "start_time": "2021-11-05T08:35:37.035Z"
   },
   {
    "duration": 505,
    "start_time": "2021-11-05T08:38:24.981Z"
   },
   {
    "duration": 396,
    "start_time": "2021-11-05T08:38:40.364Z"
   },
   {
    "duration": 401,
    "start_time": "2021-11-05T08:38:49.870Z"
   },
   {
    "duration": 281,
    "start_time": "2021-11-05T08:41:36.143Z"
   },
   {
    "duration": 286,
    "start_time": "2021-11-05T08:41:50.552Z"
   },
   {
    "duration": 393,
    "start_time": "2021-11-05T08:44:08.408Z"
   },
   {
    "duration": 519,
    "start_time": "2021-11-05T08:45:25.670Z"
   },
   {
    "duration": 379,
    "start_time": "2021-11-05T08:45:38.675Z"
   },
   {
    "duration": 538,
    "start_time": "2021-11-05T08:45:44.627Z"
   },
   {
    "duration": 569,
    "start_time": "2021-11-05T08:45:52.149Z"
   },
   {
    "duration": 372,
    "start_time": "2021-11-05T08:46:05.644Z"
   },
   {
    "duration": 379,
    "start_time": "2021-11-05T08:46:29.574Z"
   },
   {
    "duration": 14,
    "start_time": "2021-11-05T08:46:54.932Z"
   },
   {
    "duration": 277,
    "start_time": "2021-11-05T08:48:38.090Z"
   },
   {
    "duration": 233,
    "start_time": "2021-11-05T08:48:46.604Z"
   },
   {
    "duration": 340,
    "start_time": "2021-11-05T08:48:52.827Z"
   },
   {
    "duration": 255,
    "start_time": "2021-11-05T08:49:11.758Z"
   },
   {
    "duration": 228,
    "start_time": "2021-11-05T08:49:29.076Z"
   },
   {
    "duration": 230,
    "start_time": "2021-11-05T08:49:50.399Z"
   },
   {
    "duration": 238,
    "start_time": "2021-11-05T08:50:27.892Z"
   },
   {
    "duration": 280,
    "start_time": "2021-11-05T08:50:32.587Z"
   },
   {
    "duration": 293,
    "start_time": "2021-11-05T08:50:47.483Z"
   },
   {
    "duration": 286,
    "start_time": "2021-11-05T08:50:54.949Z"
   },
   {
    "duration": 284,
    "start_time": "2021-11-05T08:51:17.628Z"
   },
   {
    "duration": 295,
    "start_time": "2021-11-05T08:51:56.642Z"
   },
   {
    "duration": 428,
    "start_time": "2021-11-05T08:52:09.238Z"
   },
   {
    "duration": 282,
    "start_time": "2021-11-05T08:52:21.868Z"
   },
   {
    "duration": 519,
    "start_time": "2021-11-05T08:52:41.811Z"
   },
   {
    "duration": 277,
    "start_time": "2021-11-05T08:52:50.942Z"
   },
   {
    "duration": 345,
    "start_time": "2021-11-05T08:53:13.808Z"
   },
   {
    "duration": 507,
    "start_time": "2021-11-05T08:53:25.333Z"
   },
   {
    "duration": 272,
    "start_time": "2021-11-05T08:53:36.934Z"
   },
   {
    "duration": 264,
    "start_time": "2021-11-05T08:55:08.414Z"
   },
   {
    "duration": 553,
    "start_time": "2021-11-05T08:57:44.727Z"
   },
   {
    "duration": 349,
    "start_time": "2021-11-05T08:58:19.089Z"
   },
   {
    "duration": 380,
    "start_time": "2021-11-05T08:58:30.761Z"
   },
   {
    "duration": 317,
    "start_time": "2021-11-05T08:58:44.873Z"
   },
   {
    "duration": 309,
    "start_time": "2021-11-05T08:59:16.104Z"
   },
   {
    "duration": 405,
    "start_time": "2021-11-05T08:59:37.569Z"
   },
   {
    "duration": 303,
    "start_time": "2021-11-05T09:00:12.736Z"
   },
   {
    "duration": 471,
    "start_time": "2021-11-05T09:01:15.696Z"
   },
   {
    "duration": 328,
    "start_time": "2021-11-05T09:01:28.711Z"
   },
   {
    "duration": 295,
    "start_time": "2021-11-05T09:02:05.921Z"
   },
   {
    "duration": 339,
    "start_time": "2021-11-05T09:18:28.340Z"
   },
   {
    "duration": 295,
    "start_time": "2021-11-05T09:19:29.672Z"
   },
   {
    "duration": 326,
    "start_time": "2021-11-05T09:20:17.140Z"
   },
   {
    "duration": 422,
    "start_time": "2021-11-05T09:22:52.030Z"
   },
   {
    "duration": 330,
    "start_time": "2021-11-05T09:23:15.901Z"
   },
   {
    "duration": 341,
    "start_time": "2021-11-05T09:24:02.902Z"
   },
   {
    "duration": 456,
    "start_time": "2021-11-05T09:26:35.656Z"
   },
   {
    "duration": 347,
    "start_time": "2021-11-05T09:28:54.476Z"
   },
   {
    "duration": 347,
    "start_time": "2021-11-05T09:29:47.577Z"
   },
   {
    "duration": 418,
    "start_time": "2021-11-05T09:30:11.680Z"
   },
   {
    "duration": 297,
    "start_time": "2021-11-05T11:35:24.302Z"
   },
   {
    "duration": 350,
    "start_time": "2021-11-07T07:19:26.403Z"
   },
   {
    "duration": 1613,
    "start_time": "2021-11-07T07:19:31.990Z"
   },
   {
    "duration": 41,
    "start_time": "2021-11-07T07:19:33.605Z"
   },
   {
    "duration": 15,
    "start_time": "2021-11-07T07:19:33.648Z"
   },
   {
    "duration": 53,
    "start_time": "2021-11-07T07:19:33.665Z"
   },
   {
    "duration": 25,
    "start_time": "2021-11-07T07:19:33.719Z"
   },
   {
    "duration": 43,
    "start_time": "2021-11-07T07:19:33.746Z"
   },
   {
    "duration": 311,
    "start_time": "2021-11-07T07:19:33.791Z"
   },
   {
    "duration": 36,
    "start_time": "2021-11-07T07:19:34.105Z"
   },
   {
    "duration": 29,
    "start_time": "2021-11-07T07:19:34.142Z"
   },
   {
    "duration": 63,
    "start_time": "2021-11-07T07:19:34.173Z"
   },
   {
    "duration": 2196,
    "start_time": "2021-11-07T07:19:34.238Z"
   },
   {
    "duration": 353,
    "start_time": "2021-11-07T07:19:36.436Z"
   },
   {
    "duration": 6,
    "start_time": "2021-11-07T07:19:36.791Z"
   },
   {
    "duration": 374,
    "start_time": "2021-11-07T07:19:36.798Z"
   },
   {
    "duration": 314,
    "start_time": "2021-11-07T07:19:37.173Z"
   },
   {
    "duration": 294,
    "start_time": "2021-11-07T07:19:37.489Z"
   },
   {
    "duration": 280,
    "start_time": "2021-11-07T07:19:37.785Z"
   },
   {
    "duration": 318,
    "start_time": "2021-11-07T07:20:33.119Z"
   },
   {
    "duration": 193,
    "start_time": "2021-11-07T07:21:48.654Z"
   },
   {
    "duration": 193,
    "start_time": "2021-11-07T07:22:04.610Z"
   },
   {
    "duration": 223,
    "start_time": "2021-11-07T07:22:25.567Z"
   },
   {
    "duration": 318,
    "start_time": "2021-11-07T07:34:35.299Z"
   },
   {
    "duration": 302,
    "start_time": "2021-11-07T07:34:42.614Z"
   },
   {
    "duration": 5,
    "start_time": "2021-11-07T07:34:47.855Z"
   },
   {
    "duration": 5,
    "start_time": "2021-11-07T07:35:10.964Z"
   },
   {
    "duration": 5,
    "start_time": "2021-11-07T07:53:23.970Z"
   },
   {
    "duration": 6,
    "start_time": "2021-11-07T08:06:29.568Z"
   },
   {
    "duration": 5,
    "start_time": "2021-11-07T08:09:09.157Z"
   },
   {
    "duration": 5,
    "start_time": "2021-11-07T08:09:24.240Z"
   },
   {
    "duration": 6,
    "start_time": "2021-11-07T08:12:53.764Z"
   },
   {
    "duration": 6,
    "start_time": "2021-11-07T08:13:04.915Z"
   },
   {
    "duration": 6,
    "start_time": "2021-11-07T08:13:08.966Z"
   },
   {
    "duration": 6,
    "start_time": "2021-11-07T08:13:17.357Z"
   },
   {
    "duration": 6,
    "start_time": "2021-11-07T08:13:23.452Z"
   },
   {
    "duration": 11,
    "start_time": "2021-11-07T08:15:50.302Z"
   },
   {
    "duration": 9,
    "start_time": "2021-11-07T08:16:41.291Z"
   },
   {
    "duration": 16,
    "start_time": "2021-11-07T08:17:32.893Z"
   },
   {
    "duration": 254,
    "start_time": "2021-11-07T08:19:16.386Z"
   },
   {
    "duration": 244,
    "start_time": "2021-11-07T08:19:37.783Z"
   },
   {
    "duration": 21,
    "start_time": "2021-11-07T08:19:57.872Z"
   },
   {
    "duration": 2,
    "start_time": "2021-11-07T08:20:32.125Z"
   },
   {
    "duration": 264,
    "start_time": "2021-11-07T08:25:32.145Z"
   },
   {
    "duration": 5762,
    "start_time": "2021-11-07T08:27:20.532Z"
   },
   {
    "duration": 252,
    "start_time": "2021-11-07T08:28:29.273Z"
   },
   {
    "duration": 11,
    "start_time": "2021-11-07T08:28:39.668Z"
   },
   {
    "duration": 236,
    "start_time": "2021-11-07T08:29:16.059Z"
   },
   {
    "duration": 7,
    "start_time": "2021-11-07T08:29:31.963Z"
   },
   {
    "duration": 234,
    "start_time": "2021-11-07T08:36:17.845Z"
   },
   {
    "duration": 7,
    "start_time": "2021-11-07T08:36:35.608Z"
   },
   {
    "duration": 6,
    "start_time": "2021-11-07T08:36:43.185Z"
   },
   {
    "duration": 15,
    "start_time": "2021-11-07T08:37:11.929Z"
   },
   {
    "duration": 1404,
    "start_time": "2021-11-07T08:37:54.091Z"
   },
   {
    "duration": 47,
    "start_time": "2021-11-07T08:37:55.497Z"
   },
   {
    "duration": 18,
    "start_time": "2021-11-07T08:37:55.546Z"
   },
   {
    "duration": 54,
    "start_time": "2021-11-07T08:37:55.566Z"
   },
   {
    "duration": 26,
    "start_time": "2021-11-07T08:37:55.622Z"
   },
   {
    "duration": 43,
    "start_time": "2021-11-07T08:37:55.649Z"
   },
   {
    "duration": 328,
    "start_time": "2021-11-07T08:37:55.694Z"
   },
   {
    "duration": 50,
    "start_time": "2021-11-07T08:37:56.025Z"
   },
   {
    "duration": 11,
    "start_time": "2021-11-07T08:37:56.077Z"
   },
   {
    "duration": 73,
    "start_time": "2021-11-07T08:37:56.090Z"
   },
   {
    "duration": 2302,
    "start_time": "2021-11-07T08:37:56.166Z"
   },
   {
    "duration": 377,
    "start_time": "2021-11-07T08:37:58.470Z"
   },
   {
    "duration": 16,
    "start_time": "2021-11-07T08:37:58.849Z"
   },
   {
    "duration": 307,
    "start_time": "2021-11-07T08:37:58.867Z"
   },
   {
    "duration": 328,
    "start_time": "2021-11-07T08:37:59.176Z"
   },
   {
    "duration": 312,
    "start_time": "2021-11-07T08:37:59.506Z"
   },
   {
    "duration": 249,
    "start_time": "2021-11-07T08:37:59.820Z"
   },
   {
    "duration": 6,
    "start_time": "2021-11-07T08:38:00.071Z"
   },
   {
    "duration": 5,
    "start_time": "2021-11-07T08:38:00.080Z"
   },
   {
    "duration": 20,
    "start_time": "2021-11-07T08:38:00.087Z"
   },
   {
    "duration": 12,
    "start_time": "2021-11-07T08:38:00.109Z"
   },
   {
    "duration": 363,
    "start_time": "2021-11-07T08:38:00.123Z"
   },
   {
    "duration": 17,
    "start_time": "2021-11-07T08:38:00.489Z"
   },
   {
    "duration": 6,
    "start_time": "2021-11-07T08:38:00.508Z"
   },
   {
    "duration": 14,
    "start_time": "2021-11-07T08:38:00.516Z"
   },
   {
    "duration": 7,
    "start_time": "2021-11-07T08:38:34.581Z"
   },
   {
    "duration": 12,
    "start_time": "2021-11-07T08:38:54.183Z"
   },
   {
    "duration": 10,
    "start_time": "2021-11-07T08:43:19.710Z"
   },
   {
    "duration": 10,
    "start_time": "2021-11-07T08:43:32.442Z"
   },
   {
    "duration": 21,
    "start_time": "2021-11-07T08:46:58.902Z"
   },
   {
    "duration": 342,
    "start_time": "2021-11-07T08:47:19.836Z"
   },
   {
    "duration": 19,
    "start_time": "2021-11-07T08:47:25.100Z"
   },
   {
    "duration": 18,
    "start_time": "2021-11-07T08:47:50.844Z"
   },
   {
    "duration": 19,
    "start_time": "2021-11-07T08:48:00.756Z"
   },
   {
    "duration": 240,
    "start_time": "2021-11-07T08:49:10.452Z"
   },
   {
    "duration": 231,
    "start_time": "2021-11-07T08:49:18.669Z"
   },
   {
    "duration": 79,
    "start_time": "2021-11-07T08:49:24.475Z"
   },
   {
    "duration": 22,
    "start_time": "2021-11-07T08:50:18.172Z"
   },
   {
    "duration": 35,
    "start_time": "2021-11-07T08:53:20.245Z"
   },
   {
    "duration": 17,
    "start_time": "2021-11-07T08:53:51.759Z"
   },
   {
    "duration": 39,
    "start_time": "2021-11-07T08:56:36.832Z"
   },
   {
    "duration": 1448,
    "start_time": "2021-11-07T09:00:37.362Z"
   },
   {
    "duration": 48,
    "start_time": "2021-11-07T09:00:38.812Z"
   },
   {
    "duration": 19,
    "start_time": "2021-11-07T09:00:38.862Z"
   },
   {
    "duration": 56,
    "start_time": "2021-11-07T09:00:38.883Z"
   },
   {
    "duration": 34,
    "start_time": "2021-11-07T09:00:38.941Z"
   },
   {
    "duration": 32,
    "start_time": "2021-11-07T09:00:38.977Z"
   },
   {
    "duration": 319,
    "start_time": "2021-11-07T09:00:39.010Z"
   },
   {
    "duration": 46,
    "start_time": "2021-11-07T09:00:39.332Z"
   },
   {
    "duration": 11,
    "start_time": "2021-11-07T09:00:39.381Z"
   },
   {
    "duration": 70,
    "start_time": "2021-11-07T09:00:39.393Z"
   },
   {
    "duration": 2338,
    "start_time": "2021-11-07T09:00:39.465Z"
   },
   {
    "duration": 410,
    "start_time": "2021-11-07T09:00:41.805Z"
   },
   {
    "duration": 7,
    "start_time": "2021-11-07T09:00:42.217Z"
   },
   {
    "duration": 319,
    "start_time": "2021-11-07T09:00:42.226Z"
   },
   {
    "duration": 349,
    "start_time": "2021-11-07T09:00:42.547Z"
   },
   {
    "duration": 350,
    "start_time": "2021-11-07T09:00:42.898Z"
   },
   {
    "duration": 300,
    "start_time": "2021-11-07T09:00:43.250Z"
   },
   {
    "duration": 14,
    "start_time": "2021-11-07T09:00:43.552Z"
   },
   {
    "duration": 5,
    "start_time": "2021-11-07T09:00:43.568Z"
   },
   {
    "duration": 17,
    "start_time": "2021-11-07T09:00:43.575Z"
   },
   {
    "duration": 10,
    "start_time": "2021-11-07T09:00:43.594Z"
   },
   {
    "duration": 371,
    "start_time": "2021-11-07T09:00:43.606Z"
   },
   {
    "duration": 12,
    "start_time": "2021-11-07T09:00:43.980Z"
   },
   {
    "duration": 338,
    "start_time": "2021-11-07T09:00:43.994Z"
   },
   {
    "duration": -248,
    "start_time": "2021-11-07T09:00:44.582Z"
   },
   {
    "duration": -255,
    "start_time": "2021-11-07T09:00:44.590Z"
   },
   {
    "duration": -256,
    "start_time": "2021-11-07T09:00:44.592Z"
   },
   {
    "duration": 2,
    "start_time": "2021-11-07T09:01:05.782Z"
   },
   {
    "duration": 32,
    "start_time": "2021-11-07T09:01:06.454Z"
   },
   {
    "duration": 1425,
    "start_time": "2021-11-07T09:01:32.388Z"
   },
   {
    "duration": 43,
    "start_time": "2021-11-07T09:01:33.815Z"
   },
   {
    "duration": 18,
    "start_time": "2021-11-07T09:01:33.860Z"
   },
   {
    "duration": 56,
    "start_time": "2021-11-07T09:01:33.880Z"
   },
   {
    "duration": 33,
    "start_time": "2021-11-07T09:01:33.938Z"
   },
   {
    "duration": 32,
    "start_time": "2021-11-07T09:01:33.973Z"
   },
   {
    "duration": 319,
    "start_time": "2021-11-07T09:01:34.007Z"
   },
   {
    "duration": 49,
    "start_time": "2021-11-07T09:01:34.328Z"
   },
   {
    "duration": 10,
    "start_time": "2021-11-07T09:01:34.380Z"
   },
   {
    "duration": 72,
    "start_time": "2021-11-07T09:01:34.392Z"
   },
   {
    "duration": 2313,
    "start_time": "2021-11-07T09:01:34.466Z"
   },
   {
    "duration": 379,
    "start_time": "2021-11-07T09:01:36.781Z"
   },
   {
    "duration": 7,
    "start_time": "2021-11-07T09:01:37.162Z"
   },
   {
    "duration": 296,
    "start_time": "2021-11-07T09:01:37.170Z"
   },
   {
    "duration": 314,
    "start_time": "2021-11-07T09:01:37.468Z"
   },
   {
    "duration": 315,
    "start_time": "2021-11-07T09:01:37.785Z"
   },
   {
    "duration": 238,
    "start_time": "2021-11-07T09:01:38.102Z"
   },
   {
    "duration": 5,
    "start_time": "2021-11-07T09:01:38.342Z"
   },
   {
    "duration": 14,
    "start_time": "2021-11-07T09:01:38.349Z"
   },
   {
    "duration": 15,
    "start_time": "2021-11-07T09:01:38.365Z"
   },
   {
    "duration": 11,
    "start_time": "2021-11-07T09:01:38.382Z"
   },
   {
    "duration": 352,
    "start_time": "2021-11-07T09:01:38.394Z"
   },
   {
    "duration": 24,
    "start_time": "2021-11-07T09:01:38.748Z"
   },
   {
    "duration": 3,
    "start_time": "2021-11-07T09:01:38.773Z"
   },
   {
    "duration": 34,
    "start_time": "2021-11-07T09:01:38.777Z"
   },
   {
    "duration": 3,
    "start_time": "2021-11-07T09:01:38.812Z"
   },
   {
    "duration": 9,
    "start_time": "2021-11-07T09:01:38.818Z"
   },
   {
    "duration": 16,
    "start_time": "2021-11-07T09:03:33.754Z"
   },
   {
    "duration": 4,
    "start_time": "2021-11-07T09:07:49.405Z"
   },
   {
    "duration": 19,
    "start_time": "2021-11-07T09:08:01.003Z"
   },
   {
    "duration": 21,
    "start_time": "2021-11-07T09:08:29.196Z"
   },
   {
    "duration": 20,
    "start_time": "2021-11-07T09:08:38.717Z"
   },
   {
    "duration": 6,
    "start_time": "2021-11-07T09:08:49.388Z"
   },
   {
    "duration": 7,
    "start_time": "2021-11-07T09:09:34.021Z"
   },
   {
    "duration": 268,
    "start_time": "2021-11-07T09:12:17.633Z"
   },
   {
    "duration": 296,
    "start_time": "2021-11-07T09:12:43.111Z"
   },
   {
    "duration": 16,
    "start_time": "2021-11-07T09:13:17.350Z"
   },
   {
    "duration": 7,
    "start_time": "2021-11-07T09:13:22.175Z"
   },
   {
    "duration": 7,
    "start_time": "2021-11-07T09:13:24.587Z"
   },
   {
    "duration": 16,
    "start_time": "2021-11-07T09:13:43.533Z"
   },
   {
    "duration": 215,
    "start_time": "2021-11-07T09:19:31.340Z"
   },
   {
    "duration": 263,
    "start_time": "2021-11-07T09:19:47.279Z"
   },
   {
    "duration": 366,
    "start_time": "2021-11-07T09:20:58.432Z"
   },
   {
    "duration": 234,
    "start_time": "2021-11-07T09:21:20.376Z"
   },
   {
    "duration": 268,
    "start_time": "2021-11-07T09:21:59.037Z"
   },
   {
    "duration": 296,
    "start_time": "2021-11-07T09:23:26.922Z"
   },
   {
    "duration": 249,
    "start_time": "2021-11-07T09:24:10.514Z"
   },
   {
    "duration": 297,
    "start_time": "2021-11-07T09:24:17.649Z"
   },
   {
    "duration": 250,
    "start_time": "2021-11-07T09:24:26.616Z"
   },
   {
    "duration": 398,
    "start_time": "2021-11-07T09:24:32.417Z"
   },
   {
    "duration": 323,
    "start_time": "2021-11-07T09:25:35.242Z"
   },
   {
    "duration": 308,
    "start_time": "2021-11-07T09:26:01.562Z"
   },
   {
    "duration": 306,
    "start_time": "2021-11-07T09:26:21.323Z"
   },
   {
    "duration": 7,
    "start_time": "2021-11-07T09:28:21.913Z"
   },
   {
    "duration": 5,
    "start_time": "2021-11-07T09:28:29.848Z"
   },
   {
    "duration": 6,
    "start_time": "2021-11-07T09:30:11.972Z"
   },
   {
    "duration": 6,
    "start_time": "2021-11-07T09:30:33.521Z"
   },
   {
    "duration": 6,
    "start_time": "2021-11-07T09:30:50.206Z"
   },
   {
    "duration": 6,
    "start_time": "2021-11-07T09:30:53.716Z"
   },
   {
    "duration": 6,
    "start_time": "2021-11-07T09:30:57.096Z"
   },
   {
    "duration": 6,
    "start_time": "2021-11-07T09:31:11.571Z"
   },
   {
    "duration": 5,
    "start_time": "2021-11-07T09:31:14.932Z"
   },
   {
    "duration": 6,
    "start_time": "2021-11-07T09:31:28.748Z"
   },
   {
    "duration": 18,
    "start_time": "2021-11-07T09:32:35.965Z"
   },
   {
    "duration": 18,
    "start_time": "2021-11-07T09:32:41.372Z"
   },
   {
    "duration": 4,
    "start_time": "2021-11-07T09:32:51.956Z"
   },
   {
    "duration": 4,
    "start_time": "2021-11-07T09:33:04.161Z"
   },
   {
    "duration": 86,
    "start_time": "2021-11-07T09:35:28.533Z"
   },
   {
    "duration": 229,
    "start_time": "2021-11-07T09:35:36.212Z"
   },
   {
    "duration": 5,
    "start_time": "2021-11-07T09:35:44.443Z"
   },
   {
    "duration": 5,
    "start_time": "2021-11-07T09:37:05.965Z"
   },
   {
    "duration": 6,
    "start_time": "2021-11-07T09:37:38.911Z"
   },
   {
    "duration": 5,
    "start_time": "2021-11-07T09:37:42.564Z"
   },
   {
    "duration": 5,
    "start_time": "2021-11-07T09:37:55.708Z"
   },
   {
    "duration": 5,
    "start_time": "2021-11-07T09:37:57.221Z"
   },
   {
    "duration": 6,
    "start_time": "2021-11-07T09:43:04.225Z"
   },
   {
    "duration": 4,
    "start_time": "2021-11-07T10:01:20.318Z"
   },
   {
    "duration": 4,
    "start_time": "2021-11-07T10:01:48.214Z"
   },
   {
    "duration": 4,
    "start_time": "2021-11-07T10:02:08.893Z"
   },
   {
    "duration": 5,
    "start_time": "2021-11-07T10:02:15.517Z"
   },
   {
    "duration": 5,
    "start_time": "2021-11-07T10:02:19.164Z"
   },
   {
    "duration": 4,
    "start_time": "2021-11-07T10:03:59.152Z"
   },
   {
    "duration": 17,
    "start_time": "2021-11-07T10:41:02.092Z"
   },
   {
    "duration": 9,
    "start_time": "2021-11-07T10:42:06.379Z"
   },
   {
    "duration": 7,
    "start_time": "2021-11-07T10:42:24.311Z"
   },
   {
    "duration": 7,
    "start_time": "2021-11-07T10:42:29.084Z"
   },
   {
    "duration": 7,
    "start_time": "2021-11-07T10:42:54.349Z"
   },
   {
    "duration": 92,
    "start_time": "2021-11-07T10:43:08.620Z"
   },
   {
    "duration": 8,
    "start_time": "2021-11-07T10:43:13.813Z"
   },
   {
    "duration": 83,
    "start_time": "2021-11-07T10:43:48.182Z"
   },
   {
    "duration": 7,
    "start_time": "2021-11-07T10:43:53.445Z"
   },
   {
    "duration": 7,
    "start_time": "2021-11-07T10:43:57.199Z"
   },
   {
    "duration": 6,
    "start_time": "2021-11-07T10:44:08.741Z"
   },
   {
    "duration": 7,
    "start_time": "2021-11-07T10:44:12.298Z"
   },
   {
    "duration": 7,
    "start_time": "2021-11-07T10:44:14.950Z"
   },
   {
    "duration": 12,
    "start_time": "2021-11-07T10:44:18.862Z"
   },
   {
    "duration": 7,
    "start_time": "2021-11-07T10:44:26.117Z"
   },
   {
    "duration": 9,
    "start_time": "2021-11-07T10:44:47.173Z"
   },
   {
    "duration": 9,
    "start_time": "2021-11-07T10:44:52.566Z"
   },
   {
    "duration": 6,
    "start_time": "2021-11-07T10:46:55.886Z"
   },
   {
    "duration": 7,
    "start_time": "2021-11-07T10:47:06.303Z"
   },
   {
    "duration": 9,
    "start_time": "2021-11-07T10:48:12.424Z"
   },
   {
    "duration": 13,
    "start_time": "2021-11-07T10:48:20.465Z"
   },
   {
    "duration": 9,
    "start_time": "2021-11-07T10:48:25.231Z"
   },
   {
    "duration": 11,
    "start_time": "2021-11-07T10:48:40.472Z"
   },
   {
    "duration": 6,
    "start_time": "2021-11-07T10:51:01.118Z"
   },
   {
    "duration": 9,
    "start_time": "2021-11-07T10:51:44.948Z"
   },
   {
    "duration": 15,
    "start_time": "2021-11-07T10:52:21.728Z"
   },
   {
    "duration": 16,
    "start_time": "2021-11-07T10:53:04.873Z"
   },
   {
    "duration": 9,
    "start_time": "2021-11-07T10:55:10.552Z"
   },
   {
    "duration": 8,
    "start_time": "2021-11-07T10:57:17.395Z"
   },
   {
    "duration": 26,
    "start_time": "2021-11-07T10:57:28.953Z"
   },
   {
    "duration": 26,
    "start_time": "2021-11-07T10:57:52.328Z"
   },
   {
    "duration": 25,
    "start_time": "2021-11-07T10:58:09.120Z"
   },
   {
    "duration": 31,
    "start_time": "2021-11-07T10:58:41.057Z"
   },
   {
    "duration": 27,
    "start_time": "2021-11-07T11:08:52.184Z"
   },
   {
    "duration": 28,
    "start_time": "2021-11-07T11:09:04.735Z"
   },
   {
    "duration": 28,
    "start_time": "2021-11-07T11:09:10.619Z"
   },
   {
    "duration": 30,
    "start_time": "2021-11-07T11:09:15.054Z"
   },
   {
    "duration": 28,
    "start_time": "2021-11-07T11:09:24.217Z"
   },
   {
    "duration": 1392,
    "start_time": "2021-11-07T11:12:39.912Z"
   },
   {
    "duration": 46,
    "start_time": "2021-11-07T11:12:41.307Z"
   },
   {
    "duration": 18,
    "start_time": "2021-11-07T11:12:41.355Z"
   },
   {
    "duration": 51,
    "start_time": "2021-11-07T11:12:41.376Z"
   },
   {
    "duration": 50,
    "start_time": "2021-11-07T11:12:41.429Z"
   },
   {
    "duration": 32,
    "start_time": "2021-11-07T11:12:41.481Z"
   },
   {
    "duration": 326,
    "start_time": "2021-11-07T11:12:41.515Z"
   },
   {
    "duration": 53,
    "start_time": "2021-11-07T11:12:41.843Z"
   },
   {
    "duration": 10,
    "start_time": "2021-11-07T11:12:41.899Z"
   },
   {
    "duration": 76,
    "start_time": "2021-11-07T11:12:41.911Z"
   },
   {
    "duration": 2199,
    "start_time": "2021-11-07T11:12:41.989Z"
   },
   {
    "duration": 383,
    "start_time": "2021-11-07T11:12:44.189Z"
   },
   {
    "duration": 8,
    "start_time": "2021-11-07T11:12:44.575Z"
   },
   {
    "duration": 313,
    "start_time": "2021-11-07T11:12:44.584Z"
   },
   {
    "duration": 333,
    "start_time": "2021-11-07T11:12:44.900Z"
   },
   {
    "duration": 329,
    "start_time": "2021-11-07T11:12:45.234Z"
   },
   {
    "duration": 245,
    "start_time": "2021-11-07T11:12:45.565Z"
   },
   {
    "duration": 7,
    "start_time": "2021-11-07T11:12:45.811Z"
   },
   {
    "duration": 374,
    "start_time": "2021-11-07T11:12:45.820Z"
   },
   {
    "duration": 322,
    "start_time": "2021-11-07T11:12:46.196Z"
   },
   {
    "duration": 5,
    "start_time": "2021-11-07T11:12:46.520Z"
   },
   {
    "duration": 8,
    "start_time": "2021-11-07T11:12:46.526Z"
   },
   {
    "duration": 46,
    "start_time": "2021-11-07T11:12:46.536Z"
   },
   {
    "duration": 1301,
    "start_time": "2021-11-08T07:47:37.782Z"
   },
   {
    "duration": 40,
    "start_time": "2021-11-08T07:47:39.087Z"
   },
   {
    "duration": 15,
    "start_time": "2021-11-08T07:47:39.129Z"
   },
   {
    "duration": 61,
    "start_time": "2021-11-08T07:47:39.146Z"
   },
   {
    "duration": 23,
    "start_time": "2021-11-08T07:47:39.209Z"
   },
   {
    "duration": 28,
    "start_time": "2021-11-08T07:47:39.234Z"
   },
   {
    "duration": 313,
    "start_time": "2021-11-08T07:47:39.264Z"
   },
   {
    "duration": 35,
    "start_time": "2021-11-08T07:47:39.580Z"
   },
   {
    "duration": 10,
    "start_time": "2021-11-08T07:47:39.617Z"
   },
   {
    "duration": 73,
    "start_time": "2021-11-08T07:47:39.628Z"
   },
   {
    "duration": 2051,
    "start_time": "2021-11-08T07:47:39.703Z"
   },
   {
    "duration": 370,
    "start_time": "2021-11-08T07:47:41.756Z"
   },
   {
    "duration": 6,
    "start_time": "2021-11-08T07:47:42.128Z"
   },
   {
    "duration": 290,
    "start_time": "2021-11-08T07:47:42.136Z"
   },
   {
    "duration": 323,
    "start_time": "2021-11-08T07:47:42.428Z"
   },
   {
    "duration": 305,
    "start_time": "2021-11-08T07:47:42.752Z"
   },
   {
    "duration": 254,
    "start_time": "2021-11-08T07:47:43.059Z"
   },
   {
    "duration": 6,
    "start_time": "2021-11-08T07:47:43.315Z"
   },
   {
    "duration": 314,
    "start_time": "2021-11-08T07:47:43.322Z"
   },
   {
    "duration": 335,
    "start_time": "2021-11-08T07:47:43.637Z"
   },
   {
    "duration": 4,
    "start_time": "2021-11-08T07:47:43.973Z"
   },
   {
    "duration": 15,
    "start_time": "2021-11-08T07:47:43.979Z"
   },
   {
    "duration": 24,
    "start_time": "2021-11-08T07:47:43.995Z"
   },
   {
    "duration": 13,
    "start_time": "2021-11-08T07:52:03.585Z"
   },
   {
    "duration": 464,
    "start_time": "2021-11-08T11:37:30.401Z"
   },
   {
    "duration": 1954,
    "start_time": "2021-11-08T11:38:19.696Z"
   },
   {
    "duration": 82,
    "start_time": "2021-11-08T11:38:21.653Z"
   },
   {
    "duration": 41,
    "start_time": "2021-11-08T11:38:21.738Z"
   },
   {
    "duration": 93,
    "start_time": "2021-11-08T11:38:21.782Z"
   },
   {
    "duration": 34,
    "start_time": "2021-11-08T11:38:21.877Z"
   },
   {
    "duration": 57,
    "start_time": "2021-11-08T11:38:21.914Z"
   },
   {
    "duration": 495,
    "start_time": "2021-11-08T11:38:21.974Z"
   },
   {
    "duration": 45,
    "start_time": "2021-11-08T11:38:22.473Z"
   },
   {
    "duration": 15,
    "start_time": "2021-11-08T11:38:22.521Z"
   },
   {
    "duration": 101,
    "start_time": "2021-11-08T11:38:22.560Z"
   },
   {
    "duration": 3520,
    "start_time": "2021-11-08T11:38:22.663Z"
   },
   {
    "duration": 636,
    "start_time": "2021-11-08T11:38:26.185Z"
   },
   {
    "duration": 9,
    "start_time": "2021-11-08T11:38:26.824Z"
   },
   {
    "duration": 513,
    "start_time": "2021-11-08T11:38:26.836Z"
   },
   {
    "duration": 776,
    "start_time": "2021-11-08T11:38:27.352Z"
   },
   {
    "duration": 766,
    "start_time": "2021-11-08T11:38:28.131Z"
   },
   {
    "duration": 445,
    "start_time": "2021-11-08T11:38:28.900Z"
   },
   {
    "duration": 15,
    "start_time": "2021-11-08T11:38:29.348Z"
   },
   {
    "duration": 566,
    "start_time": "2021-11-08T11:38:29.366Z"
   },
   {
    "duration": 543,
    "start_time": "2021-11-08T11:38:29.935Z"
   },
   {
    "duration": 8,
    "start_time": "2021-11-08T11:38:30.480Z"
   },
   {
    "duration": 16,
    "start_time": "2021-11-08T11:38:30.490Z"
   },
   {
    "duration": 77,
    "start_time": "2021-11-08T11:38:30.510Z"
   },
   {
    "duration": 18,
    "start_time": "2021-11-08T13:32:58.148Z"
   },
   {
    "duration": 485,
    "start_time": "2021-11-08T13:33:54.048Z"
   },
   {
    "duration": 402,
    "start_time": "2021-11-08T13:34:07.887Z"
   },
   {
    "duration": 507,
    "start_time": "2021-11-08T13:38:09.279Z"
   },
   {
    "duration": 80,
    "start_time": "2021-11-08T13:45:41.488Z"
   },
   {
    "duration": 70,
    "start_time": "2021-11-08T13:51:00.853Z"
   },
   {
    "duration": 83,
    "start_time": "2021-11-08T13:51:09.908Z"
   },
   {
    "duration": 79,
    "start_time": "2021-11-08T13:51:57.317Z"
   },
   {
    "duration": 69,
    "start_time": "2021-11-08T13:52:14.925Z"
   },
   {
    "duration": 12,
    "start_time": "2021-11-08T13:55:08.025Z"
   },
   {
    "duration": 12,
    "start_time": "2021-11-08T13:55:13.849Z"
   },
   {
    "duration": 6,
    "start_time": "2021-11-08T13:59:04.837Z"
   },
   {
    "duration": 6,
    "start_time": "2021-11-08T13:59:09.584Z"
   },
   {
    "duration": 641,
    "start_time": "2021-11-08T14:00:43.701Z"
   },
   {
    "duration": 753,
    "start_time": "2021-11-08T14:08:40.324Z"
   },
   {
    "duration": 677,
    "start_time": "2021-11-08T14:15:34.965Z"
   },
   {
    "duration": 1215,
    "start_time": "2021-11-08T14:15:46.633Z"
   },
   {
    "duration": 2609,
    "start_time": "2021-11-08T14:16:58.581Z"
   },
   {
    "duration": 26,
    "start_time": "2021-11-08T14:18:02.183Z"
   },
   {
    "duration": 554,
    "start_time": "2021-11-08T14:18:55.120Z"
   },
   {
    "duration": 860,
    "start_time": "2021-11-08T14:19:26.198Z"
   },
   {
    "duration": 1798,
    "start_time": "2021-11-08T14:22:59.729Z"
   },
   {
    "duration": 61,
    "start_time": "2021-11-08T14:23:01.530Z"
   },
   {
    "duration": 26,
    "start_time": "2021-11-08T14:23:01.594Z"
   },
   {
    "duration": 92,
    "start_time": "2021-11-08T14:23:01.622Z"
   },
   {
    "duration": 42,
    "start_time": "2021-11-08T14:23:01.717Z"
   },
   {
    "duration": 558,
    "start_time": "2021-11-08T14:23:01.762Z"
   },
   {
    "duration": 45,
    "start_time": "2021-11-08T14:23:02.322Z"
   },
   {
    "duration": 497,
    "start_time": "2021-11-08T14:23:02.369Z"
   },
   {
    "duration": 44,
    "start_time": "2021-11-08T14:23:02.870Z"
   },
   {
    "duration": 15,
    "start_time": "2021-11-08T14:23:02.917Z"
   },
   {
    "duration": 92,
    "start_time": "2021-11-08T14:23:02.934Z"
   },
   {
    "duration": 3524,
    "start_time": "2021-11-08T14:23:03.028Z"
   },
   {
    "duration": 12,
    "start_time": "2021-11-08T14:23:06.555Z"
   },
   {
    "duration": 7,
    "start_time": "2021-11-08T14:23:06.569Z"
   },
   {
    "duration": 639,
    "start_time": "2021-11-08T14:23:06.579Z"
   },
   {
    "duration": 9,
    "start_time": "2021-11-08T14:23:07.221Z"
   },
   {
    "duration": 485,
    "start_time": "2021-11-08T14:23:07.232Z"
   },
   {
    "duration": 541,
    "start_time": "2021-11-08T14:23:07.720Z"
   },
   {
    "duration": 524,
    "start_time": "2021-11-08T14:23:08.264Z"
   },
   {
    "duration": 494,
    "start_time": "2021-11-08T14:23:08.791Z"
   },
   {
    "duration": 9,
    "start_time": "2021-11-08T14:23:09.288Z"
   },
   {
    "duration": 411,
    "start_time": "2021-11-08T14:23:09.299Z"
   },
   {
    "duration": 550,
    "start_time": "2021-11-08T14:23:09.713Z"
   },
   {
    "duration": 7,
    "start_time": "2021-11-08T14:23:10.265Z"
   },
   {
    "duration": 9,
    "start_time": "2021-11-08T14:23:10.275Z"
   },
   {
    "duration": 79,
    "start_time": "2021-11-08T14:23:10.287Z"
   },
   {
    "duration": 1061,
    "start_time": "2021-11-08T14:26:53.011Z"
   },
   {
    "duration": 218,
    "start_time": "2021-11-08T14:27:50.148Z"
   },
   {
    "duration": 290,
    "start_time": "2021-11-08T14:30:11.741Z"
   },
   {
    "duration": 487,
    "start_time": "2021-11-08T14:30:42.990Z"
   },
   {
    "duration": 142,
    "start_time": "2021-11-08T14:34:22.209Z"
   },
   {
    "duration": 660,
    "start_time": "2021-11-08T14:34:52.426Z"
   },
   {
    "duration": 901,
    "start_time": "2021-11-08T14:35:07.883Z"
   },
   {
    "duration": 942,
    "start_time": "2021-11-08T14:37:21.912Z"
   },
   {
    "duration": 962,
    "start_time": "2021-11-08T14:38:36.183Z"
   },
   {
    "duration": 1205,
    "start_time": "2021-11-08T14:40:55.986Z"
   },
   {
    "duration": 1402,
    "start_time": "2021-11-08T14:42:09.993Z"
   },
   {
    "duration": 2334,
    "start_time": "2021-11-08T14:45:44.404Z"
   },
   {
    "duration": 10,
    "start_time": "2021-11-08T14:45:55.558Z"
   },
   {
    "duration": 460,
    "start_time": "2021-11-08T14:45:56.865Z"
   },
   {
    "duration": 553,
    "start_time": "2021-11-08T14:45:58.611Z"
   },
   {
    "duration": 504,
    "start_time": "2021-11-08T14:45:59.287Z"
   },
   {
    "duration": 506,
    "start_time": "2021-11-08T14:46:00.556Z"
   },
   {
    "duration": 9,
    "start_time": "2021-11-08T14:46:01.402Z"
   },
   {
    "duration": 500,
    "start_time": "2021-11-08T14:46:02.275Z"
   },
   {
    "duration": 530,
    "start_time": "2021-11-08T14:46:02.778Z"
   },
   {
    "duration": 7,
    "start_time": "2021-11-08T14:46:03.310Z"
   },
   {
    "duration": 8,
    "start_time": "2021-11-08T14:46:03.653Z"
   },
   {
    "duration": 39,
    "start_time": "2021-11-08T14:46:04.330Z"
   },
   {
    "duration": 7,
    "start_time": "2021-11-08T14:50:37.535Z"
   },
   {
    "duration": 8,
    "start_time": "2021-11-08T14:51:15.577Z"
   },
   {
    "duration": 923,
    "start_time": "2021-11-09T07:33:39.880Z"
   },
   {
    "duration": 1685,
    "start_time": "2021-11-09T07:34:05.477Z"
   },
   {
    "duration": 58,
    "start_time": "2021-11-09T07:34:07.164Z"
   },
   {
    "duration": 26,
    "start_time": "2021-11-09T07:34:07.224Z"
   },
   {
    "duration": 84,
    "start_time": "2021-11-09T07:34:07.253Z"
   },
   {
    "duration": 33,
    "start_time": "2021-11-09T07:34:07.340Z"
   },
   {
    "duration": 481,
    "start_time": "2021-11-09T07:34:07.376Z"
   },
   {
    "duration": 38,
    "start_time": "2021-11-09T07:34:07.860Z"
   },
   {
    "duration": 518,
    "start_time": "2021-11-09T07:34:07.902Z"
   },
   {
    "duration": 70,
    "start_time": "2021-11-09T07:34:08.422Z"
   },
   {
    "duration": 16,
    "start_time": "2021-11-09T07:34:08.495Z"
   },
   {
    "duration": 80,
    "start_time": "2021-11-09T07:34:08.530Z"
   },
   {
    "duration": 3631,
    "start_time": "2021-11-09T07:34:08.613Z"
   },
   {
    "duration": 1551,
    "start_time": "2021-11-09T07:34:12.246Z"
   },
   {
    "duration": 9,
    "start_time": "2021-11-09T07:34:13.799Z"
   },
   {
    "duration": 486,
    "start_time": "2021-11-09T07:34:13.810Z"
   },
   {
    "duration": 534,
    "start_time": "2021-11-09T07:34:14.299Z"
   },
   {
    "duration": 706,
    "start_time": "2021-11-09T07:34:14.835Z"
   },
   {
    "duration": 406,
    "start_time": "2021-11-09T07:34:15.543Z"
   },
   {
    "duration": 10,
    "start_time": "2021-11-09T07:34:15.952Z"
   },
   {
    "duration": 400,
    "start_time": "2021-11-09T07:34:15.965Z"
   },
   {
    "duration": 538,
    "start_time": "2021-11-09T07:34:16.368Z"
   },
   {
    "duration": 21,
    "start_time": "2021-11-09T07:34:16.910Z"
   },
   {
    "duration": 9,
    "start_time": "2021-11-09T07:34:16.937Z"
   },
   {
    "duration": 45,
    "start_time": "2021-11-09T07:34:16.949Z"
   },
   {
    "duration": 590,
    "start_time": "2021-11-09T07:34:46.707Z"
   },
   {
    "duration": 433,
    "start_time": "2021-11-09T07:35:07.961Z"
   },
   {
    "duration": 437,
    "start_time": "2021-11-09T07:35:15.095Z"
   },
   {
    "duration": 536,
    "start_time": "2021-11-09T07:36:10.257Z"
   },
   {
    "duration": 323,
    "start_time": "2021-11-09T07:36:22.909Z"
   },
   {
    "duration": 381,
    "start_time": "2021-11-09T07:36:35.082Z"
   },
   {
    "duration": 332,
    "start_time": "2021-11-09T07:37:38.254Z"
   },
   {
    "duration": 153,
    "start_time": "2021-11-09T07:38:14.754Z"
   },
   {
    "duration": 320,
    "start_time": "2021-11-09T07:38:18.162Z"
   },
   {
    "duration": 315,
    "start_time": "2021-11-09T07:40:17.971Z"
   },
   {
    "duration": 2930,
    "start_time": "2021-11-09T07:46:51.775Z"
   },
   {
    "duration": 962,
    "start_time": "2021-11-09T07:47:13.736Z"
   },
   {
    "duration": 704,
    "start_time": "2021-11-09T07:47:26.044Z"
   },
   {
    "duration": 655,
    "start_time": "2021-11-09T07:47:43.106Z"
   },
   {
    "duration": 767,
    "start_time": "2021-11-09T07:48:16.965Z"
   },
   {
    "duration": 1010,
    "start_time": "2021-11-09T07:51:02.092Z"
   },
   {
    "duration": 702,
    "start_time": "2021-11-09T07:53:06.500Z"
   },
   {
    "duration": 767,
    "start_time": "2021-11-09T07:53:23.667Z"
   },
   {
    "duration": 723,
    "start_time": "2021-11-09T07:53:41.938Z"
   },
   {
    "duration": 703,
    "start_time": "2021-11-09T07:53:50.578Z"
   },
   {
    "duration": 855,
    "start_time": "2021-11-09T07:55:56.589Z"
   },
   {
    "duration": 783,
    "start_time": "2021-11-09T07:56:09.012Z"
   },
   {
    "duration": 772,
    "start_time": "2021-11-09T07:56:50.747Z"
   },
   {
    "duration": 1067,
    "start_time": "2021-11-09T07:59:36.208Z"
   },
   {
    "duration": 669,
    "start_time": "2021-11-09T08:00:47.744Z"
   },
   {
    "duration": 845,
    "start_time": "2021-11-09T08:02:13.616Z"
   },
   {
    "duration": 893,
    "start_time": "2021-11-09T08:04:06.489Z"
   },
   {
    "duration": 751,
    "start_time": "2021-11-09T08:04:57.368Z"
   },
   {
    "duration": 778,
    "start_time": "2021-11-09T08:05:27.528Z"
   },
   {
    "duration": 753,
    "start_time": "2021-11-09T08:08:01.439Z"
   },
   {
    "duration": 681,
    "start_time": "2021-11-09T08:13:11.112Z"
   },
   {
    "duration": 989,
    "start_time": "2021-11-09T08:13:27.913Z"
   },
   {
    "duration": 674,
    "start_time": "2021-11-09T08:13:59.540Z"
   },
   {
    "duration": 583,
    "start_time": "2021-11-09T08:14:52.906Z"
   },
   {
    "duration": 589,
    "start_time": "2021-11-09T08:16:11.382Z"
   },
   {
    "duration": 907,
    "start_time": "2021-11-09T08:46:36.544Z"
   },
   {
    "duration": 571,
    "start_time": "2021-11-09T08:46:45.326Z"
   },
   {
    "duration": 569,
    "start_time": "2021-11-09T08:47:06.360Z"
   },
   {
    "duration": 714,
    "start_time": "2021-11-09T08:47:24.438Z"
   },
   {
    "duration": 275,
    "start_time": "2021-11-09T08:48:56.012Z"
   },
   {
    "duration": 52,
    "start_time": "2021-11-09T08:49:11.058Z"
   },
   {
    "duration": 353,
    "start_time": "2021-11-09T08:49:31.174Z"
   },
   {
    "duration": 1761,
    "start_time": "2021-11-09T08:49:50.095Z"
   },
   {
    "duration": 60,
    "start_time": "2021-11-09T08:49:51.859Z"
   },
   {
    "duration": 26,
    "start_time": "2021-11-09T08:49:51.922Z"
   },
   {
    "duration": 84,
    "start_time": "2021-11-09T08:49:51.950Z"
   },
   {
    "duration": 30,
    "start_time": "2021-11-09T08:49:52.037Z"
   },
   {
    "duration": 533,
    "start_time": "2021-11-09T08:49:52.070Z"
   },
   {
    "duration": 55,
    "start_time": "2021-11-09T08:49:52.605Z"
   },
   {
    "duration": 500,
    "start_time": "2021-11-09T08:49:52.664Z"
   },
   {
    "duration": 62,
    "start_time": "2021-11-09T08:49:53.167Z"
   },
   {
    "duration": 16,
    "start_time": "2021-11-09T08:49:53.231Z"
   },
   {
    "duration": 90,
    "start_time": "2021-11-09T08:49:53.250Z"
   },
   {
    "duration": 3637,
    "start_time": "2021-11-09T08:49:53.343Z"
   },
   {
    "duration": 1413,
    "start_time": "2021-11-09T08:49:56.983Z"
   },
   {
    "duration": 10,
    "start_time": "2021-11-09T08:49:58.398Z"
   },
   {
    "duration": 19,
    "start_time": "2021-11-09T08:49:58.410Z"
   },
   {
    "duration": 613,
    "start_time": "2021-11-09T08:49:58.432Z"
   },
   {
    "duration": 526,
    "start_time": "2021-11-09T08:49:59.048Z"
   },
   {
    "duration": 620,
    "start_time": "2021-11-09T08:49:59.576Z"
   },
   {
    "duration": 647,
    "start_time": "2021-11-09T08:50:00.198Z"
   },
   {
    "duration": 442,
    "start_time": "2021-11-09T08:50:00.847Z"
   },
   {
    "duration": 9,
    "start_time": "2021-11-09T08:50:01.292Z"
   },
   {
    "duration": 417,
    "start_time": "2021-11-09T08:50:01.304Z"
   },
   {
    "duration": 544,
    "start_time": "2021-11-09T08:50:01.725Z"
   },
   {
    "duration": 7,
    "start_time": "2021-11-09T08:50:02.271Z"
   },
   {
    "duration": 45,
    "start_time": "2021-11-09T08:50:02.281Z"
   },
   {
    "duration": 71,
    "start_time": "2021-11-09T08:50:02.329Z"
   },
   {
    "duration": 41,
    "start_time": "2021-11-09T08:50:25.031Z"
   },
   {
    "duration": 41,
    "start_time": "2021-11-09T08:50:36.704Z"
   },
   {
    "duration": 393,
    "start_time": "2021-11-09T08:50:56.292Z"
   },
   {
    "duration": 5,
    "start_time": "2021-11-09T08:51:23.246Z"
   },
   {
    "duration": 598,
    "start_time": "2021-11-09T08:52:53.281Z"
   },
   {
    "duration": 599,
    "start_time": "2021-11-09T08:53:16.357Z"
   },
   {
    "duration": 791,
    "start_time": "2021-11-09T08:55:37.926Z"
   },
   {
    "duration": 16,
    "start_time": "2021-11-09T08:57:16.074Z"
   },
   {
    "duration": 602,
    "start_time": "2021-11-09T08:58:58.927Z"
   },
   {
    "duration": 595,
    "start_time": "2021-11-09T08:59:13.963Z"
   },
   {
    "duration": 24,
    "start_time": "2021-11-09T09:01:50.858Z"
   },
   {
    "duration": 13,
    "start_time": "2021-11-09T09:05:38.683Z"
   },
   {
    "duration": 976,
    "start_time": "2021-11-09T09:07:43.700Z"
   },
   {
    "duration": 2482,
    "start_time": "2021-11-09T09:08:08.089Z"
   },
   {
    "duration": 860,
    "start_time": "2021-11-09T09:08:28.744Z"
   },
   {
    "duration": 628,
    "start_time": "2021-11-09T09:08:53.314Z"
   },
   {
    "duration": 624,
    "start_time": "2021-11-09T09:09:25.154Z"
   },
   {
    "duration": 634,
    "start_time": "2021-11-09T09:09:32.275Z"
   },
   {
    "duration": 633,
    "start_time": "2021-11-09T09:11:58.898Z"
   },
   {
    "duration": 624,
    "start_time": "2021-11-09T09:12:07.137Z"
   },
   {
    "duration": 14,
    "start_time": "2021-11-09T09:14:05.915Z"
   },
   {
    "duration": 16,
    "start_time": "2021-11-09T09:15:08.003Z"
   },
   {
    "duration": 708,
    "start_time": "2021-11-09T09:16:43.179Z"
   },
   {
    "duration": 632,
    "start_time": "2021-11-09T09:17:51.655Z"
   },
   {
    "duration": 625,
    "start_time": "2021-11-09T09:18:24.342Z"
   },
   {
    "duration": 596,
    "start_time": "2021-11-09T09:19:29.864Z"
   },
   {
    "duration": 514,
    "start_time": "2021-11-09T09:20:05.562Z"
   },
   {
    "duration": 663,
    "start_time": "2021-11-09T09:20:35.860Z"
   },
   {
    "duration": 708,
    "start_time": "2021-11-09T09:20:41.723Z"
   },
   {
    "duration": 18,
    "start_time": "2021-11-09T09:20:53.173Z"
   },
   {
    "duration": 625,
    "start_time": "2021-11-09T09:21:01.557Z"
   },
   {
    "duration": 627,
    "start_time": "2021-11-09T09:21:24.505Z"
   },
   {
    "duration": 611,
    "start_time": "2021-11-09T09:21:45.089Z"
   },
   {
    "duration": 629,
    "start_time": "2021-11-09T09:22:01.302Z"
   },
   {
    "duration": 723,
    "start_time": "2021-11-09T09:22:31.247Z"
   },
   {
    "duration": 17,
    "start_time": "2021-11-09T09:25:08.439Z"
   },
   {
    "duration": 586,
    "start_time": "2021-11-09T09:27:49.112Z"
   },
   {
    "duration": 585,
    "start_time": "2021-11-09T09:28:20.503Z"
   },
   {
    "duration": 556,
    "start_time": "2021-11-09T09:28:26.269Z"
   },
   {
    "duration": 582,
    "start_time": "2021-11-09T09:28:36.223Z"
   },
   {
    "duration": 585,
    "start_time": "2021-11-09T09:30:02.961Z"
   },
   {
    "duration": 727,
    "start_time": "2021-11-09T09:30:14.776Z"
   },
   {
    "duration": 817,
    "start_time": "2021-11-09T09:30:53.369Z"
   },
   {
    "duration": 590,
    "start_time": "2021-11-09T09:31:28.361Z"
   },
   {
    "duration": 595,
    "start_time": "2021-11-09T09:31:44.817Z"
   },
   {
    "duration": 574,
    "start_time": "2021-11-09T09:37:17.362Z"
   },
   {
    "duration": 607,
    "start_time": "2021-11-09T09:37:38.430Z"
   },
   {
    "duration": 18,
    "start_time": "2021-11-09T09:38:04.630Z"
   },
   {
    "duration": 659,
    "start_time": "2021-11-09T09:38:16.159Z"
   },
   {
    "duration": 12,
    "start_time": "2021-11-09T09:38:58.517Z"
   },
   {
    "duration": 19,
    "start_time": "2021-11-09T09:38:58.945Z"
   },
   {
    "duration": 617,
    "start_time": "2021-11-09T09:38:59.161Z"
   },
   {
    "duration": 27,
    "start_time": "2021-11-09T09:38:59.780Z"
   },
   {
    "duration": 658,
    "start_time": "2021-11-09T09:38:59.984Z"
   },
   {
    "duration": 19,
    "start_time": "2021-11-09T09:39:01.793Z"
   },
   {
    "duration": 639,
    "start_time": "2021-11-09T09:39:01.815Z"
   },
   {
    "duration": 15,
    "start_time": "2021-11-09T09:39:02.457Z"
   },
   {
    "duration": 640,
    "start_time": "2021-11-09T09:39:02.474Z"
   },
   {
    "duration": 10,
    "start_time": "2021-11-09T09:39:03.202Z"
   },
   {
    "duration": 403,
    "start_time": "2021-11-09T09:39:04.074Z"
   },
   {
    "duration": 17,
    "start_time": "2021-11-09T09:39:04.514Z"
   },
   {
    "duration": 779,
    "start_time": "2021-11-09T09:39:04.730Z"
   },
   {
    "duration": 19,
    "start_time": "2021-11-09T09:39:05.511Z"
   },
   {
    "duration": 8,
    "start_time": "2021-11-09T09:39:05.626Z"
   },
   {
    "duration": 40,
    "start_time": "2021-11-09T09:39:06.289Z"
   },
   {
    "duration": 289,
    "start_time": "2021-11-09T09:42:25.735Z"
   },
   {
    "duration": 6,
    "start_time": "2021-11-09T09:42:32.753Z"
   },
   {
    "duration": 6,
    "start_time": "2021-11-09T09:43:06.304Z"
   },
   {
    "duration": 19,
    "start_time": "2021-11-09T09:44:41.679Z"
   },
   {
    "duration": 17,
    "start_time": "2021-11-09T09:44:56.147Z"
   },
   {
    "duration": 22,
    "start_time": "2021-11-09T09:45:30.920Z"
   },
   {
    "duration": 18,
    "start_time": "2021-11-09T09:45:47.217Z"
   },
   {
    "duration": 19,
    "start_time": "2021-11-09T09:45:57.314Z"
   },
   {
    "duration": 18,
    "start_time": "2021-11-09T09:46:30.999Z"
   },
   {
    "duration": 27,
    "start_time": "2021-11-09T09:47:10.146Z"
   },
   {
    "duration": 18,
    "start_time": "2021-11-09T09:48:33.929Z"
   },
   {
    "duration": 19,
    "start_time": "2021-11-09T09:50:12.504Z"
   },
   {
    "duration": 18,
    "start_time": "2021-11-09T09:53:26.616Z"
   },
   {
    "duration": 8,
    "start_time": "2021-11-09T09:55:30.211Z"
   },
   {
    "duration": 9,
    "start_time": "2021-11-09T09:55:49.219Z"
   },
   {
    "duration": 7,
    "start_time": "2021-11-09T09:56:52.603Z"
   },
   {
    "duration": 41,
    "start_time": "2021-11-09T10:36:30.274Z"
   },
   {
    "duration": 58,
    "start_time": "2021-11-09T10:36:52.211Z"
   },
   {
    "duration": 26,
    "start_time": "2021-11-09T10:42:25.660Z"
   },
   {
    "duration": 29,
    "start_time": "2021-11-09T10:42:40.442Z"
   },
   {
    "duration": 27,
    "start_time": "2021-11-09T10:42:45.387Z"
   },
   {
    "duration": 13,
    "start_time": "2021-11-09T10:52:24.063Z"
   },
   {
    "duration": 6,
    "start_time": "2021-11-09T10:52:55.848Z"
   },
   {
    "duration": 6,
    "start_time": "2021-11-09T10:53:31.034Z"
   },
   {
    "duration": 7,
    "start_time": "2021-11-09T10:54:36.259Z"
   },
   {
    "duration": 6,
    "start_time": "2021-11-09T10:55:21.582Z"
   },
   {
    "duration": 43,
    "start_time": "2021-11-09T10:57:23.228Z"
   },
   {
    "duration": 44,
    "start_time": "2021-11-09T10:57:27.829Z"
   },
   {
    "duration": 44,
    "start_time": "2021-11-09T10:57:37.553Z"
   },
   {
    "duration": 45,
    "start_time": "2021-11-09T10:59:11.615Z"
   },
   {
    "duration": 1821,
    "start_time": "2021-11-09T11:00:06.203Z"
   },
   {
    "duration": 64,
    "start_time": "2021-11-09T11:00:08.027Z"
   },
   {
    "duration": 36,
    "start_time": "2021-11-09T11:00:08.094Z"
   },
   {
    "duration": 89,
    "start_time": "2021-11-09T11:00:08.134Z"
   },
   {
    "duration": 33,
    "start_time": "2021-11-09T11:00:08.225Z"
   },
   {
    "duration": 497,
    "start_time": "2021-11-09T11:00:08.261Z"
   },
   {
    "duration": 40,
    "start_time": "2021-11-09T11:00:08.760Z"
   },
   {
    "duration": 499,
    "start_time": "2021-11-09T11:00:08.805Z"
   },
   {
    "duration": 59,
    "start_time": "2021-11-09T11:00:09.307Z"
   },
   {
    "duration": 16,
    "start_time": "2021-11-09T11:00:09.368Z"
   },
   {
    "duration": 97,
    "start_time": "2021-11-09T11:00:09.387Z"
   },
   {
    "duration": 3675,
    "start_time": "2021-11-09T11:00:09.487Z"
   },
   {
    "duration": 1418,
    "start_time": "2021-11-09T11:00:13.165Z"
   },
   {
    "duration": 10,
    "start_time": "2021-11-09T11:00:14.586Z"
   },
   {
    "duration": 46,
    "start_time": "2021-11-09T11:00:14.598Z"
   },
   {
    "duration": 611,
    "start_time": "2021-11-09T11:00:14.646Z"
   },
   {
    "duration": 28,
    "start_time": "2021-11-09T11:00:15.260Z"
   },
   {
    "duration": 606,
    "start_time": "2021-11-09T11:00:15.290Z"
   },
   {
    "duration": 31,
    "start_time": "2021-11-09T11:00:15.898Z"
   },
   {
    "duration": 696,
    "start_time": "2021-11-09T11:00:15.931Z"
   },
   {
    "duration": 20,
    "start_time": "2021-11-09T11:00:16.630Z"
   },
   {
    "duration": 590,
    "start_time": "2021-11-09T11:00:16.652Z"
   },
   {
    "duration": 7,
    "start_time": "2021-11-09T11:00:17.247Z"
   },
   {
    "duration": 415,
    "start_time": "2021-11-09T11:00:17.256Z"
   },
   {
    "duration": 20,
    "start_time": "2021-11-09T11:00:17.673Z"
   },
   {
    "duration": 612,
    "start_time": "2021-11-09T11:00:17.695Z"
   },
   {
    "duration": 20,
    "start_time": "2021-11-09T11:00:18.309Z"
   },
   {
    "duration": 8,
    "start_time": "2021-11-09T11:00:18.331Z"
   },
   {
    "duration": 15,
    "start_time": "2021-11-09T11:00:18.342Z"
   },
   {
    "duration": 73,
    "start_time": "2021-11-09T11:00:18.359Z"
   },
   {
    "duration": 9,
    "start_time": "2021-11-09T11:05:16.409Z"
   },
   {
    "duration": 12,
    "start_time": "2021-11-09T11:05:22.745Z"
   },
   {
    "duration": 11,
    "start_time": "2021-11-09T11:05:39.419Z"
   },
   {
    "duration": 9,
    "start_time": "2021-11-09T11:08:16.857Z"
   },
   {
    "duration": 12,
    "start_time": "2021-11-09T11:08:30.072Z"
   },
   {
    "duration": 10,
    "start_time": "2021-11-09T11:09:14.969Z"
   },
   {
    "duration": 10,
    "start_time": "2021-11-09T11:10:47.193Z"
   },
   {
    "duration": 10,
    "start_time": "2021-11-09T11:11:40.862Z"
   },
   {
    "duration": 10,
    "start_time": "2021-11-09T11:12:07.587Z"
   },
   {
    "duration": 10,
    "start_time": "2021-11-09T11:12:25.906Z"
   },
   {
    "duration": 11,
    "start_time": "2021-11-09T11:13:25.539Z"
   },
   {
    "duration": 11,
    "start_time": "2021-11-09T11:14:20.692Z"
   },
   {
    "duration": 11,
    "start_time": "2021-11-09T11:14:56.575Z"
   },
   {
    "duration": 11,
    "start_time": "2021-11-09T11:15:13.452Z"
   },
   {
    "duration": 10,
    "start_time": "2021-11-09T11:15:21.917Z"
   },
   {
    "duration": 10,
    "start_time": "2021-11-09T11:15:30.354Z"
   },
   {
    "duration": 10,
    "start_time": "2021-11-09T11:15:40.438Z"
   },
   {
    "duration": 10,
    "start_time": "2021-11-09T11:18:23.423Z"
   },
   {
    "duration": 9,
    "start_time": "2021-11-09T11:18:31.461Z"
   },
   {
    "duration": 1703,
    "start_time": "2021-11-09T21:08:58.579Z"
   },
   {
    "duration": 64,
    "start_time": "2021-11-09T21:09:00.285Z"
   },
   {
    "duration": 27,
    "start_time": "2021-11-09T21:09:00.353Z"
   },
   {
    "duration": 94,
    "start_time": "2021-11-09T21:09:00.383Z"
   },
   {
    "duration": 49,
    "start_time": "2021-11-09T21:09:00.480Z"
   },
   {
    "duration": 500,
    "start_time": "2021-11-09T21:09:00.532Z"
   },
   {
    "duration": 40,
    "start_time": "2021-11-09T21:09:01.035Z"
   },
   {
    "duration": 522,
    "start_time": "2021-11-09T21:09:01.079Z"
   },
   {
    "duration": 66,
    "start_time": "2021-11-09T21:09:01.605Z"
   },
   {
    "duration": 18,
    "start_time": "2021-11-09T21:09:01.673Z"
   },
   {
    "duration": 108,
    "start_time": "2021-11-09T21:09:01.693Z"
   },
   {
    "duration": 3745,
    "start_time": "2021-11-09T21:09:01.804Z"
   },
   {
    "duration": 1488,
    "start_time": "2021-11-09T21:09:05.551Z"
   },
   {
    "duration": 9,
    "start_time": "2021-11-09T21:09:07.041Z"
   },
   {
    "duration": 18,
    "start_time": "2021-11-09T21:09:07.052Z"
   },
   {
    "duration": 657,
    "start_time": "2021-11-09T21:09:07.072Z"
   },
   {
    "duration": 30,
    "start_time": "2021-11-09T21:09:07.731Z"
   },
   {
    "duration": 625,
    "start_time": "2021-11-09T21:09:07.763Z"
   },
   {
    "duration": 44,
    "start_time": "2021-11-09T21:09:08.391Z"
   },
   {
    "duration": 732,
    "start_time": "2021-11-09T21:09:08.437Z"
   },
   {
    "duration": 21,
    "start_time": "2021-11-09T21:09:09.172Z"
   },
   {
    "duration": 616,
    "start_time": "2021-11-09T21:09:09.195Z"
   },
   {
    "duration": 18,
    "start_time": "2021-11-09T21:09:09.816Z"
   },
   {
    "duration": 442,
    "start_time": "2021-11-09T21:09:09.837Z"
   },
   {
    "duration": 17,
    "start_time": "2021-11-09T21:09:10.281Z"
   },
   {
    "duration": 616,
    "start_time": "2021-11-09T21:09:10.301Z"
   },
   {
    "duration": 14,
    "start_time": "2021-11-09T21:09:10.920Z"
   },
   {
    "duration": 44,
    "start_time": "2021-11-09T21:09:10.937Z"
   },
   {
    "duration": 56,
    "start_time": "2021-11-09T21:09:10.983Z"
   },
   {
    "duration": 22,
    "start_time": "2021-11-09T21:10:48.833Z"
   },
   {
    "duration": 1797,
    "start_time": "2022-04-19T11:05:32.382Z"
   },
   {
    "duration": 110,
    "start_time": "2022-04-19T11:05:34.182Z"
   },
   {
    "duration": 28,
    "start_time": "2022-04-19T11:05:34.295Z"
   },
   {
    "duration": 111,
    "start_time": "2022-04-19T11:05:34.326Z"
   },
   {
    "duration": 29,
    "start_time": "2022-04-19T11:05:34.895Z"
   },
   {
    "duration": 348,
    "start_time": "2022-04-19T11:05:35.771Z"
   },
   {
    "duration": 31,
    "start_time": "2022-04-19T11:05:37.292Z"
   },
   {
    "duration": 348,
    "start_time": "2022-04-19T11:05:37.961Z"
   },
   {
    "duration": 44,
    "start_time": "2022-04-19T11:05:43.412Z"
   },
   {
    "duration": 14,
    "start_time": "2022-04-19T11:05:43.672Z"
   },
   {
    "duration": 77,
    "start_time": "2022-04-19T11:07:49.291Z"
   },
   {
    "duration": 4142,
    "start_time": "2022-04-19T11:07:49.842Z"
   },
   {
    "duration": 1065,
    "start_time": "2022-04-19T11:07:53.987Z"
   },
   {
    "duration": 27,
    "start_time": "2022-04-19T11:07:55.056Z"
   },
   {
    "duration": 19,
    "start_time": "2022-04-19T11:07:55.085Z"
   },
   {
    "duration": 17,
    "start_time": "2022-04-19T11:08:12.121Z"
   },
   {
    "duration": 26,
    "start_time": "2022-04-19T11:09:46.028Z"
   },
   {
    "duration": 17,
    "start_time": "2022-04-19T11:10:58.475Z"
   },
   {
    "duration": 18,
    "start_time": "2022-04-19T11:11:45.658Z"
   },
   {
    "duration": 162,
    "start_time": "2022-04-19T11:12:46.671Z"
   },
   {
    "duration": 79,
    "start_time": "2022-04-19T11:13:03.154Z"
   },
   {
    "duration": 3779,
    "start_time": "2022-04-19T11:13:03.603Z"
   },
   {
    "duration": 958,
    "start_time": "2022-04-19T11:13:07.385Z"
   },
   {
    "duration": 9,
    "start_time": "2022-04-19T11:13:08.345Z"
   },
   {
    "duration": 37,
    "start_time": "2022-04-19T11:13:08.358Z"
   },
   {
    "duration": 661,
    "start_time": "2022-04-19T11:13:08.397Z"
   },
   {
    "duration": 0,
    "start_time": "2022-04-19T11:13:09.061Z"
   },
   {
    "duration": 0,
    "start_time": "2022-04-19T11:13:09.064Z"
   },
   {
    "duration": 0,
    "start_time": "2022-04-19T11:13:09.066Z"
   },
   {
    "duration": 0,
    "start_time": "2022-04-19T11:13:09.083Z"
   },
   {
    "duration": 0,
    "start_time": "2022-04-19T11:13:09.085Z"
   },
   {
    "duration": 375,
    "start_time": "2022-04-19T11:13:09.262Z"
   },
   {
    "duration": 8,
    "start_time": "2022-04-19T11:13:11.141Z"
   },
   {
    "duration": 829,
    "start_time": "2022-04-19T11:13:17.811Z"
   },
   {
    "duration": 16,
    "start_time": "2022-04-19T11:13:18.643Z"
   },
   {
    "duration": 382,
    "start_time": "2022-04-19T11:13:18.681Z"
   },
   {
    "duration": 365,
    "start_time": "2022-04-19T11:13:51.132Z"
   },
   {
    "duration": 8,
    "start_time": "2022-04-19T11:13:51.512Z"
   },
   {
    "duration": 7,
    "start_time": "2022-04-19T11:14:31.862Z"
   },
   {
    "duration": 331,
    "start_time": "2022-04-19T11:20:06.671Z"
   },
   {
    "duration": 91,
    "start_time": "2022-04-19T11:20:07.011Z"
   },
   {
    "duration": 24,
    "start_time": "2022-04-19T11:20:07.171Z"
   },
   {
    "duration": 69,
    "start_time": "2022-04-19T11:20:07.881Z"
   },
   {
    "duration": 25,
    "start_time": "2022-04-19T11:20:08.252Z"
   },
   {
    "duration": 309,
    "start_time": "2022-04-19T11:20:08.651Z"
   },
   {
    "duration": 28,
    "start_time": "2022-04-19T11:20:09.212Z"
   },
   {
    "duration": 335,
    "start_time": "2022-04-19T11:20:09.602Z"
   },
   {
    "duration": 43,
    "start_time": "2022-04-19T11:20:10.945Z"
   },
   {
    "duration": 15,
    "start_time": "2022-04-19T11:20:10.991Z"
   },
   {
    "duration": 115,
    "start_time": "2022-04-19T11:20:11.009Z"
   },
   {
    "duration": 4514,
    "start_time": "2022-04-19T11:20:11.151Z"
   },
   {
    "duration": 993,
    "start_time": "2022-04-19T11:20:15.681Z"
   },
   {
    "duration": 8,
    "start_time": "2022-04-19T11:20:16.681Z"
   },
   {
    "duration": 23,
    "start_time": "2022-04-19T11:20:16.693Z"
   },
   {
    "duration": 547,
    "start_time": "2022-04-19T11:20:16.719Z"
   },
   {
    "duration": 0,
    "start_time": "2022-04-19T11:20:17.269Z"
   },
   {
    "duration": 0,
    "start_time": "2022-04-19T11:20:17.271Z"
   },
   {
    "duration": 0,
    "start_time": "2022-04-19T11:20:17.273Z"
   },
   {
    "duration": 0,
    "start_time": "2022-04-19T11:20:17.282Z"
   },
   {
    "duration": 0,
    "start_time": "2022-04-19T11:20:17.284Z"
   },
   {
    "duration": 0,
    "start_time": "2022-04-19T11:20:17.285Z"
   },
   {
    "duration": 0,
    "start_time": "2022-04-19T11:20:17.287Z"
   },
   {
    "duration": 0,
    "start_time": "2022-04-19T11:20:17.288Z"
   },
   {
    "duration": 21,
    "start_time": "2022-04-19T11:20:17.611Z"
   },
   {
    "duration": 492,
    "start_time": "2022-04-19T11:20:17.922Z"
   },
   {
    "duration": 0,
    "start_time": "2022-04-19T11:20:18.417Z"
   },
   {
    "duration": 712,
    "start_time": "2022-04-19T11:21:34.612Z"
   },
   {
    "duration": 153,
    "start_time": "2022-04-19T11:21:45.452Z"
   },
   {
    "duration": 354,
    "start_time": "2022-04-19T11:21:45.694Z"
   },
   {
    "duration": 17,
    "start_time": "2022-04-19T11:21:46.441Z"
   },
   {
    "duration": 448,
    "start_time": "2022-04-19T11:21:52.828Z"
   },
   {
    "duration": 17,
    "start_time": "2022-04-19T11:21:55.512Z"
   },
   {
    "duration": 374,
    "start_time": "2022-04-19T11:21:55.722Z"
   },
   {
    "duration": 470,
    "start_time": "2022-04-19T11:22:01.531Z"
   },
   {
    "duration": 23,
    "start_time": "2022-04-19T11:22:26.661Z"
   },
   {
    "duration": 471,
    "start_time": "2022-04-19T11:22:26.891Z"
   },
   {
    "duration": 7,
    "start_time": "2022-04-19T11:22:27.951Z"
   },
   {
    "duration": 428,
    "start_time": "2022-04-19T11:22:32.851Z"
   },
   {
    "duration": 9,
    "start_time": "2022-04-19T11:22:40.771Z"
   },
   {
    "duration": 809,
    "start_time": "2022-04-19T11:22:41.501Z"
   },
   {
    "duration": 16,
    "start_time": "2022-04-19T11:22:42.313Z"
   },
   {
    "duration": 410,
    "start_time": "2022-04-19T11:22:42.331Z"
   },
   {
    "duration": 0,
    "start_time": "2022-04-19T11:22:42.743Z"
   },
   {
    "duration": 7,
    "start_time": "2022-04-19T11:22:43.171Z"
   },
   {
    "duration": 429,
    "start_time": "2022-04-19T11:22:51.071Z"
   },
   {
    "duration": 9,
    "start_time": "2022-04-19T11:22:54.071Z"
   },
   {
    "duration": 7,
    "start_time": "2022-04-19T11:22:55.731Z"
   },
   {
    "duration": 141,
    "start_time": "2022-04-19T11:22:57.012Z"
   }
  ],
  "kernelspec": {
   "display_name": "Python 3 (ipykernel)",
   "language": "python",
   "name": "python3"
  },
  "language_info": {
   "codemirror_mode": {
    "name": "ipython",
    "version": 3
   },
   "file_extension": ".py",
   "mimetype": "text/x-python",
   "name": "python",
   "nbconvert_exporter": "python",
   "pygments_lexer": "ipython3",
   "version": "3.9.5"
  },
  "toc": {
   "base_numbering": 1,
   "nav_menu": {},
   "number_sections": true,
   "sideBar": true,
   "skip_h1_title": true,
   "title_cell": "Table of Contents",
   "title_sidebar": "Contents",
   "toc_cell": false,
   "toc_position": {},
   "toc_section_display": true,
   "toc_window_display": false
  }
 },
 "nbformat": 4,
 "nbformat_minor": 2
}
